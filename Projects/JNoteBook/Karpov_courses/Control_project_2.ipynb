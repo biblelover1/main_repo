{
 "cells": [
  {
   "cell_type": "code",
   "execution_count": 397,
   "metadata": {},
   "outputs": [],
   "source": [
    "import pandas as pd\n",
    "import warnings\n",
    "warnings.filterwarnings(\"ignore\", category=FutureWarning) "
   ]
  },
  {
   "cell_type": "code",
   "execution_count": 398,
   "metadata": {},
   "outputs": [
    {
     "data": {
      "text/html": [
       "<div>\n",
       "<style scoped>\n",
       "    .dataframe tbody tr th:only-of-type {\n",
       "        vertical-align: middle;\n",
       "    }\n",
       "\n",
       "    .dataframe tbody tr th {\n",
       "        vertical-align: top;\n",
       "    }\n",
       "\n",
       "    .dataframe thead th {\n",
       "        text-align: right;\n",
       "    }\n",
       "</style>\n",
       "<table border=\"1\" class=\"dataframe\">\n",
       "  <thead>\n",
       "    <tr style=\"text-align: right;\">\n",
       "      <th></th>\n",
       "      <th>Is Canceled</th>\n",
       "      <th>Lead Time</th>\n",
       "      <th>Arrival Date Year</th>\n",
       "      <th>Arrival Date Week Number</th>\n",
       "      <th>Arrival Date Day of Month</th>\n",
       "      <th>Stays in Weekend nights</th>\n",
       "      <th>Stays in week nights</th>\n",
       "      <th>stays total nights</th>\n",
       "      <th>Adults</th>\n",
       "      <th>Children</th>\n",
       "      <th>Babies</th>\n",
       "    </tr>\n",
       "  </thead>\n",
       "  <tbody>\n",
       "    <tr>\n",
       "      <th>count</th>\n",
       "      <td>119390.000000</td>\n",
       "      <td>119390.000000</td>\n",
       "      <td>119390.000000</td>\n",
       "      <td>119390.000000</td>\n",
       "      <td>119390.000000</td>\n",
       "      <td>119390.000000</td>\n",
       "      <td>119390.000000</td>\n",
       "      <td>119390.000000</td>\n",
       "      <td>119390.000000</td>\n",
       "      <td>119386.000000</td>\n",
       "      <td>119390.000000</td>\n",
       "    </tr>\n",
       "    <tr>\n",
       "      <th>mean</th>\n",
       "      <td>0.370416</td>\n",
       "      <td>104.011416</td>\n",
       "      <td>2016.156554</td>\n",
       "      <td>27.165173</td>\n",
       "      <td>15.798241</td>\n",
       "      <td>0.927599</td>\n",
       "      <td>2.500302</td>\n",
       "      <td>3.427900</td>\n",
       "      <td>1.856403</td>\n",
       "      <td>0.103890</td>\n",
       "      <td>0.007949</td>\n",
       "    </tr>\n",
       "    <tr>\n",
       "      <th>std</th>\n",
       "      <td>0.482918</td>\n",
       "      <td>106.863097</td>\n",
       "      <td>0.707476</td>\n",
       "      <td>13.605138</td>\n",
       "      <td>8.780829</td>\n",
       "      <td>0.998613</td>\n",
       "      <td>1.908286</td>\n",
       "      <td>2.557439</td>\n",
       "      <td>0.579261</td>\n",
       "      <td>0.398561</td>\n",
       "      <td>0.097436</td>\n",
       "    </tr>\n",
       "    <tr>\n",
       "      <th>min</th>\n",
       "      <td>0.000000</td>\n",
       "      <td>0.000000</td>\n",
       "      <td>2015.000000</td>\n",
       "      <td>1.000000</td>\n",
       "      <td>1.000000</td>\n",
       "      <td>0.000000</td>\n",
       "      <td>0.000000</td>\n",
       "      <td>0.000000</td>\n",
       "      <td>0.000000</td>\n",
       "      <td>0.000000</td>\n",
       "      <td>0.000000</td>\n",
       "    </tr>\n",
       "    <tr>\n",
       "      <th>25%</th>\n",
       "      <td>0.000000</td>\n",
       "      <td>18.000000</td>\n",
       "      <td>2016.000000</td>\n",
       "      <td>16.000000</td>\n",
       "      <td>8.000000</td>\n",
       "      <td>0.000000</td>\n",
       "      <td>1.000000</td>\n",
       "      <td>2.000000</td>\n",
       "      <td>2.000000</td>\n",
       "      <td>0.000000</td>\n",
       "      <td>0.000000</td>\n",
       "    </tr>\n",
       "    <tr>\n",
       "      <th>50%</th>\n",
       "      <td>0.000000</td>\n",
       "      <td>69.000000</td>\n",
       "      <td>2016.000000</td>\n",
       "      <td>28.000000</td>\n",
       "      <td>16.000000</td>\n",
       "      <td>1.000000</td>\n",
       "      <td>2.000000</td>\n",
       "      <td>3.000000</td>\n",
       "      <td>2.000000</td>\n",
       "      <td>0.000000</td>\n",
       "      <td>0.000000</td>\n",
       "    </tr>\n",
       "    <tr>\n",
       "      <th>75%</th>\n",
       "      <td>1.000000</td>\n",
       "      <td>160.000000</td>\n",
       "      <td>2017.000000</td>\n",
       "      <td>38.000000</td>\n",
       "      <td>23.000000</td>\n",
       "      <td>2.000000</td>\n",
       "      <td>3.000000</td>\n",
       "      <td>4.000000</td>\n",
       "      <td>2.000000</td>\n",
       "      <td>0.000000</td>\n",
       "      <td>0.000000</td>\n",
       "    </tr>\n",
       "    <tr>\n",
       "      <th>max</th>\n",
       "      <td>1.000000</td>\n",
       "      <td>737.000000</td>\n",
       "      <td>2017.000000</td>\n",
       "      <td>53.000000</td>\n",
       "      <td>31.000000</td>\n",
       "      <td>19.000000</td>\n",
       "      <td>50.000000</td>\n",
       "      <td>69.000000</td>\n",
       "      <td>55.000000</td>\n",
       "      <td>10.000000</td>\n",
       "      <td>10.000000</td>\n",
       "    </tr>\n",
       "  </tbody>\n",
       "</table>\n",
       "</div>"
      ],
      "text/plain": [
       "         Is Canceled      Lead Time  Arrival Date Year  \\\n",
       "count  119390.000000  119390.000000      119390.000000   \n",
       "mean        0.370416     104.011416        2016.156554   \n",
       "std         0.482918     106.863097           0.707476   \n",
       "min         0.000000       0.000000        2015.000000   \n",
       "25%         0.000000      18.000000        2016.000000   \n",
       "50%         0.000000      69.000000        2016.000000   \n",
       "75%         1.000000     160.000000        2017.000000   \n",
       "max         1.000000     737.000000        2017.000000   \n",
       "\n",
       "       Arrival Date Week Number  Arrival Date Day of Month  \\\n",
       "count             119390.000000              119390.000000   \n",
       "mean                  27.165173                  15.798241   \n",
       "std                   13.605138                   8.780829   \n",
       "min                    1.000000                   1.000000   \n",
       "25%                   16.000000                   8.000000   \n",
       "50%                   28.000000                  16.000000   \n",
       "75%                   38.000000                  23.000000   \n",
       "max                   53.000000                  31.000000   \n",
       "\n",
       "       Stays in Weekend nights  Stays in week nights  stays total nights  \\\n",
       "count            119390.000000         119390.000000       119390.000000   \n",
       "mean                  0.927599              2.500302            3.427900   \n",
       "std                   0.998613              1.908286            2.557439   \n",
       "min                   0.000000              0.000000            0.000000   \n",
       "25%                   0.000000              1.000000            2.000000   \n",
       "50%                   1.000000              2.000000            3.000000   \n",
       "75%                   2.000000              3.000000            4.000000   \n",
       "max                  19.000000             50.000000           69.000000   \n",
       "\n",
       "              Adults       Children         Babies  \n",
       "count  119390.000000  119386.000000  119390.000000  \n",
       "mean        1.856403       0.103890       0.007949  \n",
       "std         0.579261       0.398561       0.097436  \n",
       "min         0.000000       0.000000       0.000000  \n",
       "25%         2.000000       0.000000       0.000000  \n",
       "50%         2.000000       0.000000       0.000000  \n",
       "75%         2.000000       0.000000       0.000000  \n",
       "max        55.000000      10.000000      10.000000  "
      ]
     },
     "execution_count": 398,
     "metadata": {},
     "output_type": "execute_result"
    }
   ],
   "source": [
    "booking_df = pd.read_csv(\"./bookings.csv\", sep=\";\")\n",
    "booking_df.describe()"
   ]
  },
  {
   "cell_type": "code",
   "execution_count": 399,
   "metadata": {},
   "outputs": [],
   "source": [
    "# Приведите названия колонок к нижнему регистру и замените пробелы на знак нижнего подчеркивания.\n",
    "new_names = booking_df.columns.str.lower().str.replace(' ', '_')\n",
    "booking_df.columns = new_names"
   ]
  },
  {
   "cell_type": "code",
   "execution_count": 400,
   "metadata": {},
   "outputs": [],
   "source": [
    "booking_df['children'] = booking_df['children'].astype('Int64')"
   ]
  },
  {
   "cell_type": "code",
   "execution_count": null,
   "metadata": {},
   "outputs": [],
   "source": []
  },
  {
   "cell_type": "code",
   "execution_count": 401,
   "metadata": {},
   "outputs": [
    {
     "name": "stdout",
     "output_type": "stream",
     "text": [
      "<class 'pandas.core.frame.DataFrame'>\n",
      "RangeIndex: 119390 entries, 0 to 119389\n",
      "Data columns (total 21 columns):\n",
      " #   Column                     Non-Null Count   Dtype \n",
      "---  ------                     --------------   ----- \n",
      " 0   hotel                      119390 non-null  object\n",
      " 1   is_canceled                119390 non-null  int64 \n",
      " 2   lead_time                  119390 non-null  int64 \n",
      " 3   arrival_full_date          119390 non-null  object\n",
      " 4   arrival_date_year          119390 non-null  int64 \n",
      " 5   arrival_date_month         119390 non-null  object\n",
      " 6   arrival_date_week_number   119390 non-null  int64 \n",
      " 7   arrival_date_day_of_month  119390 non-null  int64 \n",
      " 8   stays_in_weekend_nights    119390 non-null  int64 \n",
      " 9   stays_in_week_nights       119390 non-null  int64 \n",
      " 10  stays_total_nights         119390 non-null  int64 \n",
      " 11  adults                     119390 non-null  int64 \n",
      " 12  children                   119386 non-null  Int64 \n",
      " 13  babies                     119390 non-null  int64 \n",
      " 14  meal                       119390 non-null  object\n",
      " 15  country                    118902 non-null  object\n",
      " 16  reserved_room_type         119390 non-null  object\n",
      " 17  assigned_room_type         119390 non-null  object\n",
      " 18  customer_type              119390 non-null  object\n",
      " 19  reservation_status         119390 non-null  object\n",
      " 20  reservation_status_date    119390 non-null  object\n",
      "dtypes: Int64(1), int64(10), object(10)\n",
      "memory usage: 19.2+ MB\n"
     ]
    }
   ],
   "source": [
    "booking_df.info()"
   ]
  },
  {
   "cell_type": "code",
   "execution_count": 402,
   "metadata": {},
   "outputs": [
    {
     "data": {
      "text/html": [
       "<div>\n",
       "<style scoped>\n",
       "    .dataframe tbody tr th:only-of-type {\n",
       "        vertical-align: middle;\n",
       "    }\n",
       "\n",
       "    .dataframe tbody tr th {\n",
       "        vertical-align: top;\n",
       "    }\n",
       "\n",
       "    .dataframe thead th {\n",
       "        text-align: right;\n",
       "    }\n",
       "</style>\n",
       "<table border=\"1\" class=\"dataframe\">\n",
       "  <thead>\n",
       "    <tr style=\"text-align: right;\">\n",
       "      <th></th>\n",
       "      <th>country</th>\n",
       "      <th>is_canceled</th>\n",
       "    </tr>\n",
       "  </thead>\n",
       "  <tbody>\n",
       "    <tr>\n",
       "      <th>125</th>\n",
       "      <td>PRT</td>\n",
       "      <td>21071</td>\n",
       "    </tr>\n",
       "    <tr>\n",
       "      <th>57</th>\n",
       "      <td>GBR</td>\n",
       "      <td>9676</td>\n",
       "    </tr>\n",
       "    <tr>\n",
       "      <th>54</th>\n",
       "      <td>FRA</td>\n",
       "      <td>8481</td>\n",
       "    </tr>\n",
       "    <tr>\n",
       "      <th>50</th>\n",
       "      <td>ESP</td>\n",
       "      <td>6391</td>\n",
       "    </tr>\n",
       "    <tr>\n",
       "      <th>42</th>\n",
       "      <td>DEU</td>\n",
       "      <td>6069</td>\n",
       "    </tr>\n",
       "  </tbody>\n",
       "</table>\n",
       "</div>"
      ],
      "text/plain": [
       "    country  is_canceled\n",
       "125     PRT        21071\n",
       "57      GBR         9676\n",
       "54      FRA         8481\n",
       "50      ESP         6391\n",
       "42      DEU         6069"
      ]
     },
     "execution_count": 402,
     "metadata": {},
     "output_type": "execute_result"
    }
   ],
   "source": [
    "# Пользователи из каких стран совершили наибольшее число успешных бронирований? Укажите топ-5.\n",
    "booking_df[booking_df['is_canceled'] == 0].groupby('country', as_index=False).aggregate({'is_canceled': 'count'}).sort_values(by='is_canceled', ascending=False).head(5)"
   ]
  },
  {
   "cell_type": "code",
   "execution_count": 403,
   "metadata": {},
   "outputs": [
    {
     "data": {
      "text/html": [
       "<div>\n",
       "<style scoped>\n",
       "    .dataframe tbody tr th:only-of-type {\n",
       "        vertical-align: middle;\n",
       "    }\n",
       "\n",
       "    .dataframe tbody tr th {\n",
       "        vertical-align: top;\n",
       "    }\n",
       "\n",
       "    .dataframe thead th {\n",
       "        text-align: right;\n",
       "    }\n",
       "</style>\n",
       "<table border=\"1\" class=\"dataframe\">\n",
       "  <thead>\n",
       "    <tr style=\"text-align: right;\">\n",
       "      <th></th>\n",
       "      <th>hotel</th>\n",
       "      <th>stays_total_nights</th>\n",
       "    </tr>\n",
       "  </thead>\n",
       "  <tbody>\n",
       "    <tr>\n",
       "      <th>0</th>\n",
       "      <td>City Hotel</td>\n",
       "      <td>2.978142</td>\n",
       "    </tr>\n",
       "    <tr>\n",
       "      <th>1</th>\n",
       "      <td>Resort Hotel</td>\n",
       "      <td>4.318547</td>\n",
       "    </tr>\n",
       "  </tbody>\n",
       "</table>\n",
       "</div>"
      ],
      "text/plain": [
       "          hotel  stays_total_nights\n",
       "0    City Hotel            2.978142\n",
       "1  Resort Hotel            4.318547"
      ]
     },
     "execution_count": 403,
     "metadata": {},
     "output_type": "execute_result"
    }
   ],
   "source": [
    "# На сколько ночей в среднем бронируют отели разных типов?\n",
    "booking_df.groupby('hotel', as_index=False).aggregate({'stays_total_nights': 'mean'})\n"
   ]
  },
  {
   "cell_type": "code",
   "execution_count": 404,
   "metadata": {},
   "outputs": [
    {
     "data": {
      "text/plain": [
       "14917"
      ]
     },
     "execution_count": 404,
     "metadata": {},
     "output_type": "execute_result"
    }
   ],
   "source": [
    "# Иногда тип номера, полученного клиентом (assigned_room_type), отличается от изначально забронированного (reserved_room_type). Такое может произойти, например, по причине овербукинга. Сколько подобных наблюдений встретилось в датасете?\n",
    "booking_df[booking_df['reserved_room_type'] != booking_df['assigned_room_type']].shape[0]"
   ]
  },
  {
   "cell_type": "code",
   "execution_count": 405,
   "metadata": {},
   "outputs": [
    {
     "data": {
      "text/plain": [
       "'2016: month - October, number of books: 3689; 2017: month - May, number of books: 3551'"
      ]
     },
     "execution_count": 405,
     "metadata": {},
     "output_type": "execute_result"
    }
   ],
   "source": [
    "# Проанализируйте даты запланированного прибытия. \n",
    "# На какой месяц чаще всего успешно оформляли бронь в 2016? Изменился ли самый популярный месяц в 2017?\n",
    "popular_month_2016 = booking_df[(booking_df['arrival_date_year'] == 2016) & (booking_df['is_canceled'] == 0)].groupby('arrival_date_month', as_index=False).aggregate({'is_canceled': 'count'}).sort_values(by=['is_canceled'], ascending=False).head(1)\n",
    "popular_month_2017 = booking_df[(booking_df['arrival_date_year'] == 2017) & (booking_df['is_canceled'] == 0)].groupby('arrival_date_month', as_index=False).aggregate({'is_canceled': 'count'}).sort_values(by=['is_canceled'], ascending=False).head(1)\n",
    "\n",
    "f'2016: month - {popular_month_2016[\"arrival_date_month\"].values[0]}, number of books: {popular_month_2016[\"is_canceled\"].values[0]}; 2017: month - {popular_month_2017[\"arrival_date_month\"].values[0]}, number of books: {popular_month_2017[\"is_canceled\"].values[0]}'"
   ]
  },
  {
   "cell_type": "code",
   "execution_count": 406,
   "metadata": {},
   "outputs": [
    {
     "data": {
      "text/plain": [
       "'Number of cancels: 2015 - month: September, 1543; 2016 - month: October, 1947; 2017 - month: May, 2217'"
      ]
     },
     "execution_count": 406,
     "metadata": {},
     "output_type": "execute_result"
    }
   ],
   "source": [
    "# Сгруппируйте данные по годам и проверьте, на какой месяц бронирования отеля типа City Hotel отменялись чаще всего в каждый из периодов.\n",
    "canceled_year = booking_df[(booking_df['hotel'] == 'City Hotel') & (booking_df['is_canceled'] == 1)].groupby(['arrival_date_year', 'arrival_date_month'], as_index=False).aggregate({'is_canceled' : 'sum'})\n",
    "canceled_year_2015 = canceled_year[canceled_year['arrival_date_year'] == 2015][['is_canceled', 'arrival_date_month']].sort_values(by=['is_canceled'], ascending=False).head(1)\n",
    "canceled_year_2016 = canceled_year[canceled_year['arrival_date_year'] == 2016][['is_canceled', 'arrival_date_month']].sort_values(by=['is_canceled'], ascending=False).head(1)\n",
    "canceled_year_2017 = canceled_year[canceled_year['arrival_date_year'] == 2017][['is_canceled', 'arrival_date_month']].sort_values(by=['is_canceled'], ascending=False).head(1)\n",
    "f\"Number of cancels: 2015 - month: {canceled_year_2015.iloc[0]['arrival_date_month']}, {canceled_year_2015.iloc[0]['is_canceled']}; 2016 - month: {canceled_year_2016.iloc[0]['arrival_date_month']}, {canceled_year_2016.iloc[0]['is_canceled']}; 2017 - month: {canceled_year_2017.iloc[0]['arrival_date_month']}, {canceled_year_2017.iloc[0]['is_canceled']}\"\n"
   ]
  },
  {
   "cell_type": "code",
   "execution_count": 407,
   "metadata": {},
   "outputs": [
    {
     "data": {
      "text/plain": [
       "adults      1.856403\n",
       "children     0.10389\n",
       "babies      0.007949\n",
       "Name: mean, dtype: Float64"
      ]
     },
     "execution_count": 407,
     "metadata": {},
     "output_type": "execute_result"
    }
   ],
   "source": [
    "# Посмотрите на числовые характеристики трёх переменных: adults, children и babies. Какая из них имеет наибольшее среднее значение?\n",
    "booking_df[['adults', 'children', 'babies']].describe().loc['mean']"
   ]
  },
  {
   "cell_type": "code",
   "execution_count": 408,
   "metadata": {},
   "outputs": [],
   "source": [
    "# Создайте колонку total_kids, объединив children и babies. Отели какого типа в среднем пользуются большей популярностью у клиентов с детьми?\n",
    "booking_df['total_kids'] = booking_df['children']+booking_df['babies']\n",
    "booking_df.groupby('hotel', as_index=False).agg({'total_kids': 'mean'})\n",
    "booking_df['total_kids'].dropna(inplace=True)\n",
    "booking_df['total_kids'].fillna(0, inplace=True)\n",
    "\n",
    "\n",
    "\n"
   ]
  },
  {
   "cell_type": "code",
   "execution_count": 409,
   "metadata": {},
   "outputs": [],
   "source": [
    "# Создайте переменную has_kids, которая принимает значение True, если клиент при бронировании указал хотя бы одного ребенка (total_kids), и False – в противном случае.\n",
    "\n",
    "def kids(x) -> bool:\n",
    "    if x > 0:\n",
    "        return True\n",
    "    else: \n",
    "        return False\n",
    "\n",
    "booking_df['has_kids'] = booking_df['total_kids'].apply(kids)\n",
    "\n",
    "\n",
    "\n"
   ]
  },
  {
   "cell_type": "code",
   "execution_count": 410,
   "metadata": {},
   "outputs": [
    {
     "data": {
      "text/plain": [
       "is_canceled  has_kids\n",
       "0            False       69093\n",
       "1            False       40965\n",
       "0            True         6073\n",
       "1            True         3259\n",
       "Name: count, dtype: int64"
      ]
     },
     "execution_count": 410,
     "metadata": {},
     "output_type": "execute_result"
    }
   ],
   "source": [
    "booking_df[['is_canceled', 'has_kids']].value_counts()"
   ]
  },
  {
   "cell_type": "code",
   "execution_count": 411,
   "metadata": {},
   "outputs": [
    {
     "data": {
      "text/plain": [
       "is_canceled  has_kids\n",
       "0            False       62.778717\n",
       "1            False       37.221283\n",
       "0            True        65.077154\n",
       "1            True        34.922846\n",
       "Name: count, dtype: float64"
      ]
     },
     "execution_count": 411,
     "metadata": {},
     "output_type": "execute_result"
    }
   ],
   "source": [
    "# Посчитайте отношение количества ушедших пользователей к общему количеству клиентов, выраженное в процентах (churn rate). Укажите, среди какой группы показатель выше.\n",
    "(booking_df[['is_canceled', 'has_kids']].value_counts()/booking_df['has_kids'].value_counts())*100\n",
    "\n"
   ]
  }
 ],
 "metadata": {
  "kernelspec": {
   "display_name": "Python 3",
   "language": "python",
   "name": "python3"
  },
  "language_info": {
   "codemirror_mode": {
    "name": "ipython",
    "version": 3
   },
   "file_extension": ".py",
   "mimetype": "text/x-python",
   "name": "python",
   "nbconvert_exporter": "python",
   "pygments_lexer": "ipython3",
   "version": "3.11.5"
  }
 },
 "nbformat": 4,
 "nbformat_minor": 2
}
