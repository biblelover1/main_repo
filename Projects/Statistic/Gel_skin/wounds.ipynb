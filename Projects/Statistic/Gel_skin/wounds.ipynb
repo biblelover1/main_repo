{
 "cells": [
  {
   "cell_type": "code",
   "execution_count": 316,
   "metadata": {},
   "outputs": [],
   "source": [
    "import matplotlib.pyplot as plt\n",
    "import numpy as np\n",
    "import seaborn as sns\n",
    "import pandas as pd\n",
    "import matplotlib.ticker as tck\n",
    "from statsmodels.stats.multicomp import pairwise_tukeyhsd\n",
    "import scipy.stats as st\n",
    "import warnings\n",
    "import scikit_posthocs as sp\n",
    "warnings.filterwarnings(\"ignore\", category=FutureWarning) "
   ]
  },
  {
   "cell_type": "code",
   "execution_count": 317,
   "metadata": {},
   "outputs": [
    {
     "data": {
      "text/html": [
       "<div>\n",
       "<style scoped>\n",
       "    .dataframe tbody tr th:only-of-type {\n",
       "        vertical-align: middle;\n",
       "    }\n",
       "\n",
       "    .dataframe tbody tr th {\n",
       "        vertical-align: top;\n",
       "    }\n",
       "\n",
       "    .dataframe thead th {\n",
       "        text-align: right;\n",
       "    }\n",
       "</style>\n",
       "<table border=\"1\" class=\"dataframe\">\n",
       "  <thead>\n",
       "    <tr style=\"text-align: right;\">\n",
       "      <th></th>\n",
       "      <th>Группа</th>\n",
       "      <th>planimetry_1</th>\n",
       "      <th>planimetry_2</th>\n",
       "      <th>planimetry_3</th>\n",
       "      <th>planimetry_4</th>\n",
       "      <th>planimetry_5</th>\n",
       "    </tr>\n",
       "  </thead>\n",
       "  <tbody>\n",
       "    <tr>\n",
       "      <th>0</th>\n",
       "      <td>СДК7_minus</td>\n",
       "      <td>19.278152</td>\n",
       "      <td>True</td>\n",
       "      <td>True</td>\n",
       "      <td>True</td>\n",
       "      <td>True</td>\n",
       "    </tr>\n",
       "    <tr>\n",
       "      <th>1</th>\n",
       "      <td>СДК7_minus</td>\n",
       "      <td>18.611277</td>\n",
       "      <td>16.50331</td>\n",
       "      <td>11.323275</td>\n",
       "      <td>True</td>\n",
       "      <td>True</td>\n",
       "    </tr>\n",
       "    <tr>\n",
       "      <th>2</th>\n",
       "      <td>СДК7_minus</td>\n",
       "      <td>20.649486</td>\n",
       "      <td>True</td>\n",
       "      <td>9.646226</td>\n",
       "      <td>True</td>\n",
       "      <td>True</td>\n",
       "    </tr>\n",
       "    <tr>\n",
       "      <th>3</th>\n",
       "      <td>СДК7_minus</td>\n",
       "      <td>22.363243</td>\n",
       "      <td>21.55337</td>\n",
       "      <td>11.169624</td>\n",
       "      <td>True</td>\n",
       "      <td>True</td>\n",
       "    </tr>\n",
       "    <tr>\n",
       "      <th>4</th>\n",
       "      <td>СДК7_minus</td>\n",
       "      <td>20.365795</td>\n",
       "      <td>18.653324</td>\n",
       "      <td>10.432006</td>\n",
       "      <td>True</td>\n",
       "      <td>True</td>\n",
       "    </tr>\n",
       "    <tr>\n",
       "      <th>...</th>\n",
       "      <td>...</td>\n",
       "      <td>...</td>\n",
       "      <td>...</td>\n",
       "      <td>...</td>\n",
       "      <td>...</td>\n",
       "      <td>...</td>\n",
       "    </tr>\n",
       "    <tr>\n",
       "      <th>69</th>\n",
       "      <td>ГОЦ21</td>\n",
       "      <td>24.75014</td>\n",
       "      <td>True</td>\n",
       "      <td>True</td>\n",
       "      <td>True</td>\n",
       "      <td>True</td>\n",
       "    </tr>\n",
       "    <tr>\n",
       "      <th>70</th>\n",
       "      <td>ГОЦ21</td>\n",
       "      <td>20.822483</td>\n",
       "      <td>True</td>\n",
       "      <td>True</td>\n",
       "      <td>True</td>\n",
       "      <td>True</td>\n",
       "    </tr>\n",
       "    <tr>\n",
       "      <th>71</th>\n",
       "      <td>True</td>\n",
       "      <td>True</td>\n",
       "      <td>True</td>\n",
       "      <td>True</td>\n",
       "      <td>True</td>\n",
       "      <td>True</td>\n",
       "    </tr>\n",
       "    <tr>\n",
       "      <th>72</th>\n",
       "      <td>True</td>\n",
       "      <td>True</td>\n",
       "      <td>True</td>\n",
       "      <td>True</td>\n",
       "      <td>True</td>\n",
       "      <td>True</td>\n",
       "    </tr>\n",
       "    <tr>\n",
       "      <th>73</th>\n",
       "      <td>True</td>\n",
       "      <td>True</td>\n",
       "      <td>True</td>\n",
       "      <td>True</td>\n",
       "      <td></td>\n",
       "      <td>True</td>\n",
       "    </tr>\n",
       "  </tbody>\n",
       "</table>\n",
       "<p>74 rows × 6 columns</p>\n",
       "</div>"
      ],
      "text/plain": [
       "        Группа planimetry_1 planimetry_2 planimetry_3 planimetry_4  \\\n",
       "0   СДК7_minus    19.278152         True         True         True   \n",
       "1   СДК7_minus    18.611277     16.50331    11.323275         True   \n",
       "2   СДК7_minus    20.649486         True     9.646226         True   \n",
       "3   СДК7_minus    22.363243     21.55337    11.169624         True   \n",
       "4   СДК7_minus    20.365795    18.653324    10.432006         True   \n",
       "..         ...          ...          ...          ...          ...   \n",
       "69       ГОЦ21     24.75014         True         True         True   \n",
       "70       ГОЦ21    20.822483         True         True         True   \n",
       "71        True         True         True         True         True   \n",
       "72        True         True         True         True         True   \n",
       "73        True         True         True         True                \n",
       "\n",
       "   planimetry_5  \n",
       "0          True  \n",
       "1          True  \n",
       "2          True  \n",
       "3          True  \n",
       "4          True  \n",
       "..          ...  \n",
       "69         True  \n",
       "70         True  \n",
       "71         True  \n",
       "72         True  \n",
       "73         True  \n",
       "\n",
       "[74 rows x 6 columns]"
      ]
     },
     "execution_count": 317,
     "metadata": {},
     "output_type": "execute_result"
    }
   ],
   "source": [
    "xlsx_df = pd.read_excel('./Гели-кожа, цифры.xlsx', sheet_name='Планиметрия расчет')\n",
    "xlsx_df = xlsx_df.fillna(True)\n",
    "xlsx_df"
   ]
  },
  {
   "cell_type": "markdown",
   "metadata": {},
   "source": [
    "# Раны сравнение"
   ]
  },
  {
   "cell_type": "code",
   "execution_count": 318,
   "metadata": {},
   "outputs": [],
   "source": [
    "CDK_wo_7 = [20.38687781, 18.45912746, 10.99594555]\n",
    "CDK_wo_14 = [21.80383733, 17.64777706, 12.19339458, 4.480650813]\n",
    "CDK_wo_21 = [23.36861689,  17.78090738, 10.36390575, 5.14883839, 2.04]\n",
    "CDK_w_7 = [23.15710408,  19.63259523, 11.78597676]\n",
    "CDK_w_14 = [22.88,  20.54, 15.10984706, 8.824456138]\n",
    "CDK_w_21 = [20.22,  19.43, 13.20102899, 6.079535278, 2,936557143]\n",
    "GCF_7 = [21.86,  17.75]\n",
    "GCF_14 = [21.96771998,  19.49686767,  14.59857312,  9.414336913]\n",
    "GCF_21 = [21.88041618,  20.82579287,  14.14393183, False, 1.722536274]\n",
    "GEF_7 = [20.53780855,  20.29798818, 12.62553866]\n",
    "GEF_14 = [21.15506447, 19.3388171, 13.41459664, 6.364934207]\n",
    "GEF_21 = [21.33975481,  22.07191337, 16.52690688, 6.834948947, 3.033155153]\n",
    "\n",
    "# 1st planimetry\n",
    "wo_DM_0 = np.array([CDK_wo_7[0], CDK_wo_14[0], CDK_wo_21[0]]).mean()\n",
    "w_DM_0 = np.array([CDK_w_7[0], CDK_w_14[0], CDK_w_21[0]]).mean()\n",
    "GCF_all_0 = np.array([GCF_7[0], GCF_14[0], GCF_21[0]]).mean()\n",
    "GEF_all_0 = np.array([GEF_7[0], GEF_14[0], GEF_21[0]]).mean()\n",
    "\n",
    "# 2nd planimetry\n",
    "wo_DM_1 = np.array([CDK_wo_7[1], CDK_wo_14[1], CDK_wo_21[1]]).mean()\n",
    "w_DM_1 = np.array([CDK_w_7[1], CDK_w_14[1], CDK_w_21[1]]).mean()\n",
    "GCF_all_1 = np.array([GCF_7[1], GCF_14[1], GCF_21[1]]).mean()\n",
    "GEF_all_1 = np.array([GEF_7[1], GEF_14[1], GEF_21[1]]).mean()\n",
    "\n",
    "# 3rd planimetry\n",
    "wo_DM_2 = np.array([CDK_wo_7[2], CDK_wo_14[2], CDK_wo_21[2]]).mean()\n",
    "w_DM_2 = np.array([CDK_w_7[2], CDK_w_14[2], CDK_w_21[2]]).mean()\n",
    "GCF_all_2 = np.array([GCF_14[2], GCF_21[2]]).mean()\n",
    "GEF_all_2 = np.array([GEF_7[2], GEF_14[2], GEF_21[2]]).mean()\n",
    "\n",
    "# 4th planimetry\n",
    "wo_DM_3 = np.array([CDK_wo_14[3], CDK_wo_21[3]]).mean()\n",
    "w_DM_3 = np.array([CDK_w_14[3], CDK_w_21[3]]).mean()\n",
    "GCF_all_3 = np.array([GCF_14[3], GCF_21[3]]).mean()\n",
    "GEF_all_3 = np.array([GEF_14[2], GEF_21[3]]).mean()\n",
    "\n",
    "# 5th planimetry\n",
    "wo_DM_4 = np.array([CDK_wo_21[4]]).mean()\n",
    "w_DM_4 = np.array([CDK_w_21[4]]).mean()\n",
    "GCF_all_4 = np.array([GCF_21[4]]).mean()\n",
    "GEF_all_4 = np.array([GEF_21[4]]).mean()"
   ]
  },
  {
   "cell_type": "code",
   "execution_count": 319,
   "metadata": {},
   "outputs": [],
   "source": [
    "# Dynamics by groups\n",
    "no_DM = [wo_DM_0, wo_DM_1, wo_DM_2, wo_DM_3, wo_DM_4]\n",
    "DM = [w_DM_0, wo_DM_1, w_DM_2, w_DM_3, wo_DM_4]\n",
    "GCF_all = [GCF_all_0, GCF_all_1, GCF_all_2, GCF_all_3, GCF_all_4]\n",
    "GEF_all = [GEF_all_0, GEF_all_1, GEF_all_2, GEF_all_3, GEF_all_4]\n",
    "group = ['Control', 'Diabetes', 'Gel-control', 'Gel experiment']\n",
    "df = [no_DM, DM, GCF_all, GEF_all]"
   ]
  },
  {
   "cell_type": "code",
   "execution_count": 320,
   "metadata": {},
   "outputs": [
    {
     "data": {
      "text/html": [
       "<div>\n",
       "<style scoped>\n",
       "    .dataframe tbody tr th:only-of-type {\n",
       "        vertical-align: middle;\n",
       "    }\n",
       "\n",
       "    .dataframe tbody tr th {\n",
       "        vertical-align: top;\n",
       "    }\n",
       "\n",
       "    .dataframe thead th {\n",
       "        text-align: right;\n",
       "    }\n",
       "</style>\n",
       "<table border=\"1\" class=\"dataframe\">\n",
       "  <thead>\n",
       "    <tr style=\"text-align: right;\">\n",
       "      <th></th>\n",
       "      <th>Control</th>\n",
       "      <th>Diabetes</th>\n",
       "      <th>Gel_control</th>\n",
       "      <th>Gel_experiment</th>\n",
       "    </tr>\n",
       "  </thead>\n",
       "  <tbody>\n",
       "    <tr>\n",
       "      <th>0</th>\n",
       "      <td>21.853111</td>\n",
       "      <td>22.085701</td>\n",
       "      <td>21.902712</td>\n",
       "      <td>21.010876</td>\n",
       "    </tr>\n",
       "    <tr>\n",
       "      <th>1</th>\n",
       "      <td>17.962604</td>\n",
       "      <td>17.962604</td>\n",
       "      <td>19.357554</td>\n",
       "      <td>20.569573</td>\n",
       "    </tr>\n",
       "    <tr>\n",
       "      <th>2</th>\n",
       "      <td>11.184415</td>\n",
       "      <td>13.365618</td>\n",
       "      <td>14.371252</td>\n",
       "      <td>14.189014</td>\n",
       "    </tr>\n",
       "    <tr>\n",
       "      <th>3</th>\n",
       "      <td>4.814745</td>\n",
       "      <td>7.451996</td>\n",
       "      <td>4.707168</td>\n",
       "      <td>10.124773</td>\n",
       "    </tr>\n",
       "    <tr>\n",
       "      <th>4</th>\n",
       "      <td>2.04</td>\n",
       "      <td>2.04</td>\n",
       "      <td>1.722536</td>\n",
       "      <td>3.033155</td>\n",
       "    </tr>\n",
       "  </tbody>\n",
       "</table>\n",
       "</div>"
      ],
      "text/plain": [
       "     Control   Diabetes Gel_control Gel_experiment\n",
       "0  21.853111  22.085701   21.902712      21.010876\n",
       "1  17.962604  17.962604   19.357554      20.569573\n",
       "2  11.184415  13.365618   14.371252      14.189014\n",
       "3   4.814745   7.451996    4.707168      10.124773\n",
       "4       2.04       2.04    1.722536       3.033155"
      ]
     },
     "execution_count": 320,
     "metadata": {},
     "output_type": "execute_result"
    }
   ],
   "source": [
    "new_df = pd.DataFrame(df)\n",
    "new_df['group'] = group\n",
    "new_df = new_df.transpose()\n",
    "new_df = new_df.rename(columns={0:'Control', 1:'Diabetes', 2:'Gel_control', 3:'Gel_experiment'})\n",
    "new_df = new_df.drop('group')\n",
    "new_df\n"
   ]
  },
  {
   "cell_type": "code",
   "execution_count": 321,
   "metadata": {},
   "outputs": [
    {
     "data": {
      "text/plain": [
       "Text(0, 0.5, 'Размер ран')"
      ]
     },
     "execution_count": 321,
     "metadata": {},
     "output_type": "execute_result"
    },
    {
     "data": {
      "image/png": "[encoded data removed]",
      "text/plain": [
       "<Figure size 640x480 with 1 Axes>"
      ]
     },
     "metadata": {},
     "output_type": "display_data"
    }
   ],
   "source": [
    "ax = sns.lineplot(new_df, markers=True)\n",
    "plt.title('Динамика размера ран')\n",
    "plt.yticks(np.arange(0,25,step=2))\n",
    "plt.xlabel('Планиметрия')\n",
    "plt.ylabel('Размер ран')\n"
   ]
  },
  {
   "cell_type": "markdown",
   "metadata": {},
   "source": [
    "Полная статистика"
   ]
  },
  {
   "cell_type": "code",
   "execution_count": 322,
   "metadata": {},
   "outputs": [],
   "source": [
    "# First planimetry\n",
    "DMK_wo = [19.27815172, 18.61127663, 20.64948604, 22.36324327, 20.36579498, 21.05331419, 21.45892239, 21.90587857, 24.09027607,\n",
    "          20.88180264, 20.7478339, 21.73831042, 23.19803967, 22.85556978, 25.84909662, 22.59474038, 24.19072307, 21.52353178]\n",
    "DMK_W = [23.40637945, 23.3295144, 22.57062518, 24.51997756, 21.9590238, 26.86474734, 22.22356012,\n",
    "         23.40488272, 21.30144578, 21.0191905, 22.43950111, 20.56, 20.61, 22.35, 18.81, 18.76]\n",
    "GCF = [23.36, 23.91, 24.07, 20.55, 19.08, 20.19, 24.83212425, 22.97018283, 22.33819385,\n",
    "       20.93630011, 18.76179884, 21.69777939, 20.9761466, 19.86226458, 22.06394875, 24.80194157]\n",
    "GEC = [20.93201005, 18.09127601, 20.09914914, 21.5434977, 21.04099729, 21.51992115, 21.90779752, 18.06005551, 18.79205687,\n",
    "       20.4174273, 25.82949975, 21.92354985, 21.92131267, 20.14504728, 20.3962342, 20.00331183, 24.75013993, 20.82248295]"
   ]
  },
  {
   "cell_type": "code",
   "execution_count": 323,
   "metadata": {},
   "outputs": [
    {
     "name": "stdout",
     "output_type": "stream",
     "text": [
      "         Multiple Comparison of Means - Tukey HSD, FWER=0.05         \n",
      "=====================================================================\n",
      "    group1          group2      meandiff p-adj   lower  upper  reject\n",
      "---------------------------------------------------------------------\n",
      "Гель контроль         Гель опыт  -0.8892 0.5431 -2.6433  0.865  False\n",
      "Гель контроль            Диабет    0.233 0.9863  -1.572  2.038  False\n",
      "Гель контроль Здоровый контроль  -0.0469 0.9999 -1.8011 1.7072  False\n",
      "    Гель опыт            Диабет   1.1222 0.3387  -0.632 2.8764  False\n",
      "    Гель опыт Здоровый контроль   0.8422 0.5629 -0.8596  2.544  False\n",
      "       Диабет Здоровый контроль  -0.2799 0.9747 -2.0341 1.4742  False\n",
      "---------------------------------------------------------------------\n"
     ]
    }
   ],
   "source": [
    "scores = DMK_wo + DMK_W + GCF + GEC\n",
    "groups = np.repeat(['Здоровый контроль', 'Диабет', 'Гель контроль', 'Гель опыт'], repeats=[len(DMK_wo), len(DMK_W), len(GCF), len(GEC)])\n",
    "\n",
    "tukey = pairwise_tukeyhsd(scores, groups)\n",
    "print(tukey) "
   ]
  },
  {
   "cell_type": "code",
   "execution_count": 324,
   "metadata": {},
   "outputs": [
    {
     "data": {
      "text/plain": [
       "KruskalResult(statistic=4.584434498437076, pvalue=0.20488144271132822)"
      ]
     },
     "execution_count": 324,
     "metadata": {},
     "output_type": "execute_result"
    }
   ],
   "source": [
    "K = st.kruskal(DMK_wo, DMK_W, GCF, GEC)\n",
    "K"
   ]
  },
  {
   "cell_type": "markdown",
   "metadata": {},
   "source": [
    "Вывод: статистически значимые различия на первой планиметрии отсутствуют"
   ]
  },
  {
   "cell_type": "code",
   "execution_count": null,
   "metadata": {},
   "outputs": [],
   "source": [
    "# Second planimetry\n",
    "DMK_wo_2 = [10, 16.50330984, 21.55337029, 18.65332402, 17.1265057, 17.60992772, 19.02331791, 16.99156779,\n",
    "            15.86744454, 14.05874844, 22.33565599, 19.37760872, 14.77271542, 16.47692848, 18.78805692, 18.79822461, 18.47191016]\n",
    "DMK_W_2 = [16.45793712, 24.7742161, 15.92550332, 22.65265272, 18.3526669,\n",
    "           24.18, 19.72, 22.85, 21.27, 17.88, 17.35, 20.51, 21.80, 19.73, 15.70]\n",
    "GCF_2 = [19.03, 19.89, 18.11, 16.84, 15.91, 16.72, 15.04904932, 21.91451254, 23.63733417,\n",
    "         16.09509954, 16.34052444, 23.45468595, 20.30728902, 17.35280223, 22.18839428]\n",
    "GEC_2 = [23.18029583, 18.83667652, 18.49568722, 19.31904443, 19.67066425,\n",
    "         16.46718412, 21.89837559, 22.25277482, 18.56645835, 21.38750752, 26.0809128]"
   ]
  },
  {
   "cell_type": "code",
   "execution_count": null,
   "metadata": {},
   "outputs": [
    {
     "name": "stdout",
     "output_type": "stream",
     "text": [
      "         Multiple Comparison of Means - Tukey HSD, FWER=0.05          \n",
      "======================================================================\n",
      "    group1          group2      meandiff p-adj   lower   upper  reject\n",
      "----------------------------------------------------------------------\n",
      "Гель контроль         Гель опыт   1.7036 0.4461 -1.3123  4.7196  False\n",
      "Гель контроль            Диабет   1.0876 0.7273 -1.6867  3.8618  False\n",
      "Гель контроль Здоровый контроль  -1.4202 0.5056 -4.1116  1.2712  False\n",
      "    Гель опыт            Диабет  -0.6161 0.9484  -3.632  2.3999  False\n",
      "    Гель опыт Здоровый контроль  -3.1238 0.0332 -6.0637 -0.1839   True\n",
      "       Диабет Здоровый контроль  -2.5077 0.0763 -5.1992  0.1837  False\n",
      "----------------------------------------------------------------------\n"
     ]
    }
   ],
   "source": [
    "scores = DMK_wo_2 + DMK_W_2 + GCF_2 + GEC_2\n",
    "groups = np.repeat(['Здоровый контроль', 'Диабет', 'Гель контроль', 'Гель опыт'], repeats=[len(DMK_wo_2), len(DMK_W_2), len(GCF_2), len(GEC_2)])\n",
    "\n",
    "tukey_2 = pairwise_tukeyhsd(scores, groups)\n",
    "print(tukey_2) "
   ]
  },
  {
   "cell_type": "code",
   "execution_count": null,
   "metadata": {},
   "outputs": [
    {
     "data": {
      "image/png": "[encoded data removed]",
      "text/plain": [
       "<Figure size 640x480 with 1 Axes>"
      ]
     },
     "metadata": {},
     "output_type": "display_data"
    }
   ],
   "source": [
    "labels = ['Ген-активированный гель', 'Здоровый контроль']\n",
    "plt.title('Вторая планиметрия')\n",
    "plt.xlabel('Группа')\n",
    "plt.ylabel('Размер раны')\n",
    "plt.boxplot(x=[GEC_2,DMK_wo_2], labels=labels)\n",
    "plt.show()"
   ]
  },
  {
   "cell_type": "markdown",
   "metadata": {},
   "source": [
    "В группе опыта - некорректное измерение. Из-за этого статистически значимые различия"
   ]
  },
  {
   "cell_type": "code",
   "execution_count": null,
   "metadata": {},
   "outputs": [],
   "source": [
    "# Third planimetry\n",
    "DMK_wo_3 = [11.32327517, 9.646226284, 11.16962441, 10.43200612, 12.40859575, 8.186286498, 13.64644561, 10.55371459,\n",
    "            10.27147432, 9.235834393, 21.26661209, 11.47892003, 10.92411579, 9.096230058, 9.216504166, 10.25484195, 11.21282251]\n",
    "DMK_W_3 = [9.95, 12.91, 14.38, 9.90, 14.61510431, 15.85471458, 17.19987409, 19.20426572,\n",
    "           10.50101603, 13.28410764, 12.17494556, 14.14546809, 12.72742162, 13.12298514, 13.83432452]\n",
    "GCF_3 = [13.25482727, 19.30740263, 18.37188381, 22.05875189, 15.70216424,\n",
    "         14.41588826, 15.3112506, 15.19591799, 13.33120471, 13.63271636]\n",
    "GEC_3 = [12.87475187, 12.13664242, 12.01575399, 13.47500635, 12.86722989, 15.36403278,\n",
    "         12.47203241, 12.95509147, 13.75564736, 14.90616083, 14.83772091, 22.60809843]"
   ]
  },
  {
   "cell_type": "code",
   "execution_count": null,
   "metadata": {},
   "outputs": [
    {
     "name": "stdout",
     "output_type": "stream",
     "text": [
      "         Multiple Comparison of Means - Tukey HSD, FWER=0.05          \n",
      "======================================================================\n",
      "    group1          group2      meandiff p-adj   lower   upper  reject\n",
      "----------------------------------------------------------------------\n",
      "Гель контроль         Гель опыт  -1.8692 0.4144 -5.0678  1.3294  False\n",
      "Гель контроль            Диабет  -2.4713 0.1506  -5.521  0.5785  False\n",
      "Гель контроль Здоровый контроль  -4.8627 0.0004 -7.8398 -1.8856   True\n",
      "    Гель опыт            Диабет  -0.6021 0.9453 -3.4953  2.2912  False\n",
      "    Гель опыт Здоровый контроль  -2.9935 0.0332 -5.8101 -0.1769   True\n",
      "       Диабет Здоровый контроль  -2.3914 0.0898 -5.0378  0.2549  False\n",
      "----------------------------------------------------------------------\n"
     ]
    }
   ],
   "source": [
    "scores = DMK_wo_3 + DMK_W_3 + GCF_3 + GEC_3\n",
    "groups = np.repeat(['Здоровый контроль', 'Диабет', 'Гель контроль', 'Гель опыт'], repeats=[len(DMK_wo_3), len(DMK_W_3), len(GCF_3), len(GEC_3)])\n",
    "\n",
    "tukey_3 = pairwise_tukeyhsd(scores, groups)\n",
    "print(tukey_3)"
   ]
  },
  {
   "cell_type": "code",
   "execution_count": null,
   "metadata": {},
   "outputs": [
    {
     "data": {
      "image/png": "[encoded data removed]",
      "text/plain": [
       "<Figure size 1000x500 with 2 Axes>"
      ]
     },
     "metadata": {},
     "output_type": "display_data"
    }
   ],
   "source": [
    "# Создание субплота с двумя графиками\n",
    "fig, axs = plt.subplots(1, 2, figsize=(10, 5))\n",
    "# Построение боксплота для DMK_wo_3 и GEC_3\n",
    "plt.title('Forth planimetry')\n",
    "axs[0].boxplot([DMK_wo_3, GCF_3], labels=['Здоровый контроль', 'Гель контроль'])\n",
    "axs[0].set_title('Третья планиметрия')\n",
    "\n",
    "# Построение боксплота для GEC_3 и DMK_W_3\n",
    "axs[1].boxplot([DMK_wo_3, GEC_3], labels=['Здоровый контроль', 'Гель опыт'])\n",
    "axs[1].set_title('Третья планиметрия')\n",
    "\n",
    "# Отображение графиков\n",
    "plt.show()"
   ]
  },
  {
   "cell_type": "code",
   "execution_count": null,
   "metadata": {},
   "outputs": [],
   "source": [
    "# Forth planimetry\n",
    "DMK_wo_4 = [4.037246965, 5.652686639, 4.713309519, 4.135753692, 3.864257248,\n",
    "            5.189774365, 5.015263327, 4.367949278, 4.086017793, 6.389980214, 5.844045366]\n",
    "DMK_W_4 = [9.050248967, 10.153472, 11.18221974, 12.14335812, 2.053426529,\n",
    "           8.364011472, 4.294271106, 7.061783755, 8.885900949, 4.076185303, 4.621467492]\n",
    "GCF_4 = [7.117216947, 11.70464549, 13.41987309, 14.82994904,\n",
    "         5.78004474, 7.108799607, 5.527119013, 3.503046899, 11.20083027, 7.117216947, 11.70464549, 13.41987309, 14.82994904,\n",
    "         5.78004474, 7.108799607, 5.527119013, 3.503046899, 11.20083027]\n",
    "GEC_4 = [4.487775327, 4.645112492, 7.812043617, 8.51480539,\n",
    "         7.108799607, 5.527119013, 3.503046899, 11.20083027]"
   ]
  },
  {
   "cell_type": "code",
   "execution_count": null,
   "metadata": {},
   "outputs": [
    {
     "name": "stdout",
     "output_type": "stream",
     "text": [
      "         Multiple Comparison of Means - Tukey HSD, FWER=0.05          \n",
      "======================================================================\n",
      "    group1          group2      meandiff p-adj   lower   upper  reject\n",
      "----------------------------------------------------------------------\n",
      "Гель контроль         Гель опыт  -2.3102 0.2968 -5.7769  1.1564  False\n",
      "Гель контроль            Диабет   -1.466 0.5967 -4.5882  1.6563  False\n",
      "Гель контроль Здоровый контроль  -4.0651 0.0061 -7.1873 -0.9428   True\n",
      "    Гель опыт            Диабет   0.8443 0.9332 -2.9466  4.6351  False\n",
      "    Гель опыт Здоровый контроль  -1.7548 0.6077 -5.5457   2.036  False\n",
      "       Диабет Здоровый контроль  -2.5991 0.2055 -6.0778  0.8796  False\n",
      "----------------------------------------------------------------------\n"
     ]
    }
   ],
   "source": [
    "scores = DMK_wo_4 + DMK_W_4 + GCF_4 + GEC_4\n",
    "groups = np.repeat(['Здоровый контроль', 'Диабет', 'Гель контроль', 'Гель опыт'], repeats=[len(DMK_wo_4), len(DMK_W_4), len(GCF_4), len(GEC_4)])\n",
    "\n",
    "tukey_4 = pairwise_tukeyhsd(scores, groups)\n",
    "print(tukey_4)"
   ]
  },
  {
   "cell_type": "code",
   "execution_count": null,
   "metadata": {},
   "outputs": [
    {
     "data": {
      "text/plain": [
       "KruskalResult(statistic=9.871693075953228, pvalue=0.01968887667021436)"
      ]
     },
     "execution_count": 234,
     "metadata": {},
     "output_type": "execute_result"
    }
   ],
   "source": [
    "H = st.kruskal(DMK_wo_4, DMK_W_4, GCF_4, GEC_4)\n",
    "H"
   ]
  },
  {
   "cell_type": "code",
   "execution_count": null,
   "metadata": {},
   "outputs": [
    {
     "data": {
      "image/png": "[encoded data removed]",
      "text/plain": [
       "<Figure size 640x480 with 1 Axes>"
      ]
     },
     "metadata": {},
     "output_type": "display_data"
    }
   ],
   "source": [
    "plt.boxplot([DMK_wo_3, GCF_3], labels=['Здоровый контроль', 'Гель контроль'])\n",
    "plt.title('Четвертая планиметрия')\n",
    "plt.xlabel('Группа')\n",
    "plt.ylabel('Размер раны')\n",
    "plt.show()"
   ]
  },
  {
   "cell_type": "code",
   "execution_count": null,
   "metadata": {},
   "outputs": [],
   "source": [
    "# Fifth planimetry\n",
    "DMK_wo_5 = [0.00, 2.55, 0.90, 2.77, 2.91, 3.09]\n",
    "DMK_W_5 = [3.280709881, 5.370241191, 4.310851365, 1.720983277, 0]\n",
    "GCF_5 = [0, 5.854716646, 2.757964725]\n",
    "GEC_5 = [2, 86823144, 2, 954646562, 1, 728000944, 4, 581741665]"
   ]
  },
  {
   "cell_type": "code",
   "execution_count": null,
   "metadata": {},
   "outputs": [
    {
     "name": "stdout",
     "output_type": "stream",
     "text": [
      "                    Multiple Comparison of Means - Tukey HSD, FWER=0.05                     \n",
      "============================================================================================\n",
      "    group1          group2          meandiff    p-adj       lower          upper      reject\n",
      "--------------------------------------------------------------------------------------------\n",
      "Гель контроль         Гель опыт  293901537.6291 0.3241 -178303250.3031 766106325.5613  False\n",
      "Гель контроль            Диабет          0.0657    1.0 -509376644.8597 509376644.9911  False\n",
      "Гель контроль Здоровый контроль         -0.8342    1.0   -493201816.52 493201814.8515  False\n",
      "    Гель опыт            Диабет -293901537.5634 0.1942 -691533553.5622 103730478.4353  False\n",
      "    Гель опыт Здоровый контроль -293901538.4633 0.1596 -670590647.3416  82787570.4149  False\n",
      "       Диабет Здоровый контроль         -0.8999    1.0 -422352802.9468  422352801.147  False\n",
      "--------------------------------------------------------------------------------------------\n"
     ]
    }
   ],
   "source": [
    "scores = DMK_wo_5 + DMK_W_5 + GCF_5 + GEC_5\n",
    "groups = np.repeat(['Здоровый контроль', 'Диабет', 'Гель контроль', 'Гель опыт'], repeats=[len(DMK_wo_5), len(DMK_W_5), len(GCF_5), len(GEC_5)])\n",
    "\n",
    "tukey_5 = pairwise_tukeyhsd(scores, groups)\n",
    "print(tukey_5)"
   ]
  },
  {
   "cell_type": "code",
   "execution_count": null,
   "metadata": {},
   "outputs": [
    {
     "data": {
      "text/plain": [
       "KruskalResult(statistic=3.3325311438278566, pvalue=0.34314051923937594)"
      ]
     },
     "execution_count": 238,
     "metadata": {},
     "output_type": "execute_result"
    }
   ],
   "source": [
    "H = st.kruskal(DMK_wo_5,DMK_W_5,GCF_5,GEC_5)\n",
    "H"
   ]
  },
  {
   "cell_type": "markdown",
   "metadata": {},
   "source": [
    "# Площадь ран сравнение"
   ]
  },
  {
   "cell_type": "code",
   "execution_count": null,
   "metadata": {},
   "outputs": [],
   "source": [
    "S_CDK_wo_7 = [327.417, 270.466,\t95.5858]\n",
    "S_CDK_wo_14 = [374.793, 221.391, 87.2018, 16.0932]\n",
    "S_CDK_wo_21 = [430.1378333, 250.2566667, 84.99933333, 21.30566667, 4.318166667]\n",
    "S_CDK_w_7 = [421.5428, 312.149, 111.96225]\n",
    "S_CDK_w_14 = [413.7576667, 336.11, 185.306, 69.561]\n",
    "S_CDK_w_21 = [322.3112, 300.5595, 137.2042, 26.1878, 9.6002]\n",
    "S_GCF_7 = [381.901, 248.8706667]\n",
    "S_GCF_14 = [382.074, 281.2668, 254.2048, 97.51]\n",
    "S_GCF_21 = [377.9392, 344.60575, 162.7682, False, 6,5758]\n",
    "S_GEF_7 = [332.2345, 322.9586667, 125.406]\n",
    "S_GEF_14 = [356.3815, 296.50775, 142.28225, 34.39225]\n",
    "S_GEF_21 = [359.6151667, 388.092, 224.254, 42.94225, 8.0335]\n",
    "\n",
    "# 1st planimetry\n",
    "S_wo_DM_0 = np.array([S_CDK_wo_7[0], S_CDK_wo_14[0], S_CDK_wo_21[0]]).mean()\n",
    "S_w_DM_0 = np.array([S_CDK_w_7[0], S_CDK_w_14[0], S_CDK_w_21[0]]).mean()\n",
    "S_GCF_all_0 = np.array([S_GCF_7[0], S_GCF_14[0], S_GCF_21[0]]).mean()\n",
    "S_GEF_all_0 = np.array([S_GEF_7[0], S_GEF_14[0], S_GEF_21[0]]).mean()\n",
    "\n",
    "# 2nd planimetry\n",
    "S_wo_DM_1 = np.array([S_CDK_wo_7[1], S_CDK_wo_14[1], S_CDK_wo_21[1]]).mean()\n",
    "S_w_DM_1 = np.array([S_CDK_w_7[1], S_CDK_w_14[1], S_CDK_w_21[1]]).mean()\n",
    "S_GCF_all_1 = np.array([S_GCF_7[1], S_GCF_14[1], S_GCF_21[1]]).mean()\n",
    "S_GEF_all_1 = np.array([S_GEF_7[1], S_GEF_14[1], S_GEF_21[1]]).mean()\n",
    "\n",
    "# 3rd planimetry\n",
    "S_wo_DM_2 = np.array([S_CDK_wo_7[2], S_CDK_wo_14[2], S_CDK_wo_21[2]]).mean()\n",
    "S_w_DM_2 = np.array([S_CDK_w_7[2], S_CDK_w_14[2], CDK_w_21[2]]).mean()\n",
    "S_GCF_all_2 = np.array([S_GCF_14[2], S_GCF_21[2]]).mean()\n",
    "S_GEF_all_2 = np.array([S_GEF_7[2], S_GEF_14[2], S_GEF_21[2]]).mean()\n",
    "\n",
    "# 4th planimetry\n",
    "S_wo_DM_3 = np.array([S_CDK_wo_14[3], S_CDK_wo_21[3]]).mean()\n",
    "S_w_DM_3 = np.array([S_CDK_w_14[3], S_CDK_w_21[3]]).mean()\n",
    "S_GCF_all_3 = np.array([S_GCF_14[3], S_GCF_21[3]]).mean()\n",
    "S_GEF_all_3 = np.array([S_GEF_14[2], S_GEF_21[3]]).mean()\n",
    "\n",
    "# 5th planimetry\n",
    "S_wo_DM_4 = np.array([S_CDK_wo_21[4]]).mean()\n",
    "S_w_DM_4 = np.array([S_CDK_w_21[4]]).mean()\n",
    "S_GCF_all_4 = np.array([S_GCF_21[4]]).mean()\n",
    "S_GEF_all_4 = np.array([S_GEF_21[4]]).mean()"
   ]
  },
  {
   "cell_type": "code",
   "execution_count": null,
   "metadata": {},
   "outputs": [],
   "source": [
    "S_no_DM = [S_wo_DM_0, S_wo_DM_1, S_wo_DM_2, S_wo_DM_3, S_wo_DM_4]\n",
    "S_DM = [S_w_DM_0, S_wo_DM_1, S_w_DM_2, S_w_DM_3, S_wo_DM_4]\n",
    "S_GCF_all = [S_GCF_all_0, S_GCF_all_1, S_GCF_all_2, S_GCF_all_3, S_GCF_all_4]\n",
    "S_GEF_all = [S_GEF_all_0, S_GEF_all_1, S_GEF_all_2, S_GEF_all_3, S_GEF_all_4]\n",
    "group = ['Control', 'Diabetes', 'Gel-control', 'Gel experiment']\n",
    "S_df = [S_no_DM, S_DM, S_GCF_all, S_GEF_all]"
   ]
  },
  {
   "cell_type": "code",
   "execution_count": null,
   "metadata": {},
   "outputs": [
    {
     "data": {
      "text/html": [
       "<div>\n",
       "<style scoped>\n",
       "    .dataframe tbody tr th:only-of-type {\n",
       "        vertical-align: middle;\n",
       "    }\n",
       "\n",
       "    .dataframe tbody tr th {\n",
       "        vertical-align: top;\n",
       "    }\n",
       "\n",
       "    .dataframe thead th {\n",
       "        text-align: right;\n",
       "    }\n",
       "</style>\n",
       "<table border=\"1\" class=\"dataframe\">\n",
       "  <thead>\n",
       "    <tr style=\"text-align: right;\">\n",
       "      <th></th>\n",
       "      <th>Control</th>\n",
       "      <th>Diabetes</th>\n",
       "      <th>Gel_control</th>\n",
       "      <th>Gel_experiment</th>\n",
       "    </tr>\n",
       "  </thead>\n",
       "  <tbody>\n",
       "    <tr>\n",
       "      <th>0</th>\n",
       "      <td>377.449278</td>\n",
       "      <td>385.870556</td>\n",
       "      <td>380.638067</td>\n",
       "      <td>349.410389</td>\n",
       "    </tr>\n",
       "    <tr>\n",
       "      <th>1</th>\n",
       "      <td>247.371222</td>\n",
       "      <td>247.371222</td>\n",
       "      <td>291.581072</td>\n",
       "      <td>335.852806</td>\n",
       "    </tr>\n",
       "    <tr>\n",
       "      <th>2</th>\n",
       "      <td>89.262311</td>\n",
       "      <td>103.489760</td>\n",
       "      <td>208.486500</td>\n",
       "      <td>163.980750</td>\n",
       "    </tr>\n",
       "    <tr>\n",
       "      <th>3</th>\n",
       "      <td>18.699433</td>\n",
       "      <td>47.874400</td>\n",
       "      <td>48.755000</td>\n",
       "      <td>92.612250</td>\n",
       "    </tr>\n",
       "    <tr>\n",
       "      <th>4</th>\n",
       "      <td>4.318167</td>\n",
       "      <td>4.318167</td>\n",
       "      <td>6.000000</td>\n",
       "      <td>8.033500</td>\n",
       "    </tr>\n",
       "  </tbody>\n",
       "</table>\n",
       "</div>"
      ],
      "text/plain": [
       "      Control    Diabetes  Gel_control  Gel_experiment\n",
       "0  377.449278  385.870556   380.638067      349.410389\n",
       "1  247.371222  247.371222   291.581072      335.852806\n",
       "2   89.262311  103.489760   208.486500      163.980750\n",
       "3   18.699433   47.874400    48.755000       92.612250\n",
       "4    4.318167    4.318167     6.000000        8.033500"
      ]
     },
     "execution_count": 241,
     "metadata": {},
     "output_type": "execute_result"
    }
   ],
   "source": [
    "new_df = pd.DataFrame(S_df)\n",
    "new_df = new_df.transpose().rename(columns={0:'Control', 1:'Diabetes', 2:'Gel_control', 3:'Gel_experiment'})\n",
    "new_df"
   ]
  },
  {
   "cell_type": "code",
   "execution_count": null,
   "metadata": {},
   "outputs": [
    {
     "data": {
      "image/png": "[encoded data removed]",
      "text/plain": [
       "<Figure size 640x480 with 1 Axes>"
      ]
     },
     "metadata": {},
     "output_type": "display_data"
    }
   ],
   "source": [
    "ax = sns.lineplot(new_df, markers=True)\n",
    "plt.title('Динамика размера ран')\n",
    "plt.text(2, 220, '*')\n",
    "plt.yticks(np.arange(0, 400,step=50))\n",
    "plt.xlabel('Планиметрия')\n",
    "plt.ylabel('Площадь ран')\n",
    "plt.show()"
   ]
  },
  {
   "cell_type": "code",
   "execution_count": null,
   "metadata": {},
   "outputs": [],
   "source": [
    "# Первая планиметрия\n",
    "S_wo = xlsx_df[(xlsx_df['Группа'] == 'СДК7_minus') | (xlsx_df['Группа'] == 'СДК14_minus') | (\n",
    "    xlsx_df['Группа'] == 'СДК21_minus')]['Планиметрия 0, мм2'].dropna()\n",
    "S_w = xlsx_df[(xlsx_df['Группа'] == 'СДК7_plus') | (xlsx_df['Группа'] == 'СДК14_plus') | (\n",
    "    xlsx_df['Группа'] == 'СДК21_plus')]['Планиметрия 0, мм2'].dropna()\n",
    "GCF = xlsx_df[(xlsx_df['Группа'] == 'ГКЦ7') | (xlsx_df['Группа'] == 'ГКЦ14') | (\n",
    "    xlsx_df['Группа'] == 'ГКЦ21')]['Планиметрия 0, мм2'].dropna()\n",
    "GOF = xlsx_df[(xlsx_df['Группа'] == 'ГОЦ 7') | (xlsx_df['Группа'] == 'ГОЦ14') | (\n",
    "    xlsx_df['Группа'] == 'ГОЦ21')]['Планиметрия 0, мм2'].dropna()\n",
    "df_swo = pd.DataFrame(S_wo)\n",
    "df_sw = pd.DataFrame(S_w)\n",
    "df_GCF = pd.DataFrame(GCF)\n",
    "df_GOF = pd.DataFrame(GOF)"
   ]
  },
  {
   "cell_type": "code",
   "execution_count": null,
   "metadata": {},
   "outputs": [
    {
     "data": {
      "text/plain": [
       "F_onewayResult(statistic=0.1805021597562244, pvalue=0.9092745553163807)"
      ]
     },
     "execution_count": 244,
     "metadata": {},
     "output_type": "execute_result"
    }
   ],
   "source": [
    "F = st.f_oneway(df_swo['Планиметрия 0, мм2'], df_sw['Планиметрия 0, мм2'], df_GCF['Планиметрия 0, мм2'], df_GOF['Планиметрия 0, мм2'])\n",
    "F"
   ]
  },
  {
   "cell_type": "code",
   "execution_count": null,
   "metadata": {},
   "outputs": [
    {
     "data": {
      "text/plain": [
       "KruskalResult(statistic=array([2.54402064]), pvalue=array([0.46738807]))"
      ]
     },
     "execution_count": 245,
     "metadata": {},
     "output_type": "execute_result"
    }
   ],
   "source": [
    "H = st.kruskal(df_swo, df_sw, df_GCF, df_GOF)\n",
    "H"
   ]
  },
  {
   "cell_type": "code",
   "execution_count": null,
   "metadata": {},
   "outputs": [],
   "source": [
    "# Вторая планиметрия\n",
    "S_wo = xlsx_df[(xlsx_df['Группа'] == 'СДК7_minus') | (xlsx_df['Группа'] == 'СДК14_minus') | (\n",
    "    xlsx_df['Группа'] == 'СДК21_minus')]['Планиметрия 3, мм2'].dropna()\n",
    "S_w = xlsx_df[(xlsx_df['Группа'] == 'СДК7_plus') | (xlsx_df['Группа'] == 'СДК14_plus') | (\n",
    "    xlsx_df['Группа'] == 'СДК21_plus')]['Планиметрия 3, мм2'].dropna()\n",
    "GCF = xlsx_df[(xlsx_df['Группа'] == 'ГКЦ7') | (xlsx_df['Группа'] == 'ГКЦ14') | (\n",
    "    xlsx_df['Группа'] == 'ГКЦ21')]['Планиметрия 3, мм2'].dropna()\n",
    "GOF = xlsx_df[(xlsx_df['Группа'] == 'ГОЦ 7') | (xlsx_df['Группа'] == 'ГОЦ14') | (\n",
    "    xlsx_df['Группа'] == 'ГОЦ21')]['Планиметрия 3, мм2'].dropna()\n",
    "df_swo = pd.DataFrame(S_wo)\n",
    "df_sw = pd.DataFrame(S_w)\n",
    "df_GCF = pd.DataFrame(GCF)\n",
    "df_GOF = pd.DataFrame(GOF)"
   ]
  },
  {
   "cell_type": "code",
   "execution_count": null,
   "metadata": {},
   "outputs": [
    {
     "data": {
      "text/plain": [
       "F_onewayResult(statistic=1.8364250957539083, pvalue=0.14894511986042397)"
      ]
     },
     "execution_count": 247,
     "metadata": {},
     "output_type": "execute_result"
    }
   ],
   "source": [
    "F = st.f_oneway(df_swo['Планиметрия 3, мм2'], df_sw['Планиметрия 3, мм2'],\n",
    "                df_GCF['Планиметрия 3, мм2'], df_GOF['Планиметрия 3, мм2'])\n",
    "F"
   ]
  },
  {
   "cell_type": "code",
   "execution_count": null,
   "metadata": {},
   "outputs": [
    {
     "data": {
      "text/plain": [
       "KruskalResult(statistic=array([5.19368784]), pvalue=array([0.1581515]))"
      ]
     },
     "execution_count": 248,
     "metadata": {},
     "output_type": "execute_result"
    }
   ],
   "source": [
    "H = st.kruskal(df_swo, df_sw, df_GCF, df_GOF)\n",
    "H"
   ]
  },
  {
   "cell_type": "code",
   "execution_count": null,
   "metadata": {},
   "outputs": [],
   "source": [
    "# Третья планиметрия\n",
    "S_wo = xlsx_df[(xlsx_df['Группа'] == 'СДК7_minus') | (xlsx_df['Группа'] == 'СДК14_minus') | (\n",
    "    xlsx_df['Группа'] == 'СДК21_minus')]['Планиметрия 7, мм2']\n",
    "S_w = xlsx_df[(xlsx_df['Группа'] == 'СДК7_plus') | (xlsx_df['Группа'] == 'СДК14_plus') | (\n",
    "    xlsx_df['Группа'] == 'СДК21_plus')]['Планиметрия 7, мм2']\n",
    "GCF = xlsx_df[(xlsx_df['Группа'] == 'ГКЦ7') | (xlsx_df['Группа'] == 'ГКЦ14') | (\n",
    "    xlsx_df['Группа'] == 'ГКЦ21')]['Планиметрия 7, мм2']\n",
    "GOF = xlsx_df[(xlsx_df['Группа'] == 'ГОЦ 7') | (xlsx_df['Группа'] == 'ГОЦ14') | (\n",
    "    xlsx_df['Группа'] == 'ГОЦ21')]['Планиметрия 7, мм2']\n",
    "df_swo = pd.DataFrame(S_wo)\n",
    "df_sw = pd.DataFrame(S_w)\n",
    "df_GCF = pd.DataFrame(GCF)\n",
    "df_GOF = pd.DataFrame(GOF)\n",
    "df_swo = df_swo[df_swo['Планиметрия 7, мм2'] != True]['Планиметрия 7, мм2'].to_numpy()\n",
    "df_sw = df_sw[df_sw['Планиметрия 7, мм2'] != True]['Планиметрия 7, мм2'].to_numpy()\n",
    "df_GCF = df_GCF[df_GCF['Планиметрия 7, мм2'] != True]['Планиметрия 7, мм2'].to_numpy()\n",
    "df_GOF = df_GOF[df_GOF['Планиметрия 7, мм2'] != True]['Планиметрия 7, мм2'].to_numpy()"
   ]
  },
  {
   "cell_type": "code",
   "execution_count": null,
   "metadata": {},
   "outputs": [
    {
     "data": {
      "text/plain": [
       "F_onewayResult(statistic=10.706881198261321, pvalue=2.084089494482905e-05)"
      ]
     },
     "execution_count": 250,
     "metadata": {},
     "output_type": "execute_result"
    }
   ],
   "source": [
    "F = st.f_oneway(df_swo, df_sw, df_GCF, df_GOF)\n",
    "F"
   ]
  },
  {
   "cell_type": "code",
   "execution_count": null,
   "metadata": {},
   "outputs": [
    {
     "data": {
      "text/plain": [
       "KruskalResult(statistic=24.47950680272109, pvalue=1.9835686947304e-05)"
      ]
     },
     "execution_count": 251,
     "metadata": {},
     "output_type": "execute_result"
    }
   ],
   "source": [
    "H = st.kruskal(df_swo, df_sw, df_GCF, df_GOF)\n",
    "H"
   ]
  },
  {
   "cell_type": "code",
   "execution_count": null,
   "metadata": {},
   "outputs": [],
   "source": [
    "df_swo = [100.65, 73.044, 97.937, 85.429, 120.869, 52.607, 146.187, 87.434,\n",
    "       82.82, 66.961, 103.436, 93.679, 64.952, 66.681, 82.552, 98.696]\n",
    "df_sw = [77.794, 130.767, 162.289, 76.999, 167.677, 197.327, 232.231,\n",
    "       289.511, 86.563, 138.527, 116.36, 157.074, 127.16, 135.187, 150.24]\n",
    "df_GCF = [137.917, 292.629, 264.958, 381.972, 193.548]\n",
    "df_GOF =[130.121, 115.629, 113.337, 142.537, 129.969, 185.302, 122.108,\n",
    "       131.75, 148.536, 174.422, 172.824, 401.234]"
   ]
  },
  {
   "cell_type": "code",
   "execution_count": null,
   "metadata": {},
   "outputs": [
    {
     "name": "stdout",
     "output_type": "stream",
     "text": [
      "           Multiple Comparison of Means - Tukey HSD, FWER=0.05            \n",
      "==========================================================================\n",
      "    group1          group2       meandiff p-adj    lower    upper   reject\n",
      "--------------------------------------------------------------------------\n",
      "Гель контроль         Гель опыт   -90.224 0.0332 -175.0457  -5.4024   True\n",
      "Гель контроль            Диабет -104.4911 0.0078 -186.7801  -22.202   True\n",
      "Гель контроль Здоровый контроль -165.2089    0.0 -246.8526 -83.5653   True\n",
      "    Гель опыт            Диабет   -14.267  0.926  -75.9838  47.4498  False\n",
      "    Гель опыт Здоровый контроль  -74.9849 0.0103 -135.8384 -14.1313   True\n",
      "       Диабет Здоровый контроль  -60.7179  0.034 -117.9886  -3.4471   True\n",
      "--------------------------------------------------------------------------\n"
     ]
    }
   ],
   "source": [
    "scores = df_swo + df_sw + df_GCF + df_GOF\n",
    "groups = np.repeat(['Здоровый контроль', 'Диабет', 'Гель контроль',\n",
    "                   'Гель опыт'], repeats=[len(df_swo), len(df_sw), len(df_GCF), len(df_GOF)])\n",
    "\n",
    "tukey_4 = pairwise_tukeyhsd(scores, groups)\n",
    "print(tukey_4)"
   ]
  },
  {
   "cell_type": "code",
   "execution_count": null,
   "metadata": {},
   "outputs": [
    {
     "data": {
      "image/png": "[encoded data removed]",
      "text/plain": [
       "<Figure size 1000x500 with 6 Axes>"
      ]
     },
     "metadata": {},
     "output_type": "display_data"
    }
   ],
   "source": [
    "# Создание субплота с двумя графиками\n",
    "fig, axs = plt.subplots(2, 3, figsize=(10, 5))\n",
    "\n",
    "# \n",
    "axs[0, 0].boxplot([df_GCF, df_GOF], labels=['Гель контроль', 'Гель опыт'])\n",
    "axs[0, 0].set_title('Третья планиметрия')\n",
    "\n",
    "# \n",
    "\n",
    "axs[0, 1].boxplot([df_GCF, df_sw], labels=['Гель контроль', 'Диабет'])\n",
    "axs[0, 1].set_title('Третья планиметрия')\n",
    "\n",
    "# \n",
    "axs[0, 2].boxplot([df_GCF, df_swo], labels=['Гель контроль', 'Здоровый контроль'])\n",
    "axs[0, 2].set_title('Третья планиметрия')\n",
    "\n",
    "# \n",
    "axs[1, 0].boxplot([df_GOF, df_swo], labels=['Гель опыт', 'Здоровый контроль'])\n",
    "axs[1, 0].set_title('Третья планиметрия')\n",
    "\n",
    "# \n",
    "axs[1, 1].boxplot([df_sw, df_swo], labels=['Диабет ', 'Здоровый контроль'])\n",
    "axs[1, 1].set_title('Третья планиметрия')\n",
    "\n",
    "# Hide empty subplot\n",
    "axs[1, 2].axis('off')\n",
    "\n",
    "# Display the plots\n",
    "plt.tight_layout()\n",
    "plt.show()"
   ]
  },
  {
   "cell_type": "code",
   "execution_count": null,
   "metadata": {},
   "outputs": [],
   "source": [
    "# Четвертая планиметрия\n",
    "S_wo = xlsx_df[(xlsx_df['Группа'] == 'СДК7_minus') | (xlsx_df['Группа'] == 'СДК14_minus') | (\n",
    "    xlsx_df['Группа'] == 'СДК21_minus')]['Планиметрия 14, мм2'].dropna()\n",
    "S_w = xlsx_df[(xlsx_df['Группа'] == 'СДК7_plus') | (xlsx_df['Группа'] == 'СДК14_plus') | (\n",
    "    xlsx_df['Группа'] == 'СДК21_plus')]['Планиметрия 14, мм2'].dropna()\n",
    "GCF = xlsx_df[(xlsx_df['Группа'] == 'ГКЦ7') | (xlsx_df['Группа'] == 'ГКЦ14') | (\n",
    "    xlsx_df['Группа'] == 'ГКЦ21')]['Планиметрия 14, мм2'].dropna()\n",
    "GOF = xlsx_df[(xlsx_df['Группа'] == 'ГОЦ 7') | (xlsx_df['Группа'] == 'ГОЦ14') | (\n",
    "    xlsx_df['Группа'] == 'ГОЦ21')]['Планиметрия 14, мм2'].dropna()\n",
    "df_swo = pd.Series(S_wo)\n",
    "df_sw = pd.Series(S_w)\n",
    "df_GCF = pd.Series(GCF)\n",
    "df_GOF = pd.Series(GOF)"
   ]
  },
  {
   "cell_type": "code",
   "execution_count": null,
   "metadata": {},
   "outputs": [
    {
     "data": {
      "text/plain": [
       "F_onewayResult(statistic=1.2623514613631035, pvalue=0.2943983988641883)"
      ]
     },
     "execution_count": 256,
     "metadata": {},
     "output_type": "execute_result"
    }
   ],
   "source": [
    "F = st.f_oneway(df_swo, df_sw, df_GCF, df_GOF)\n",
    "F"
   ]
  },
  {
   "cell_type": "code",
   "execution_count": null,
   "metadata": {},
   "outputs": [
    {
     "data": {
      "text/plain": [
       "KruskalResult(statistic=3.2800446314378204, pvalue=0.3504297316476145)"
      ]
     },
     "execution_count": 257,
     "metadata": {},
     "output_type": "execute_result"
    }
   ],
   "source": [
    "H = st.kruskal(df_swo, df_sw, df_GCF, df_GOF)\n",
    "H"
   ]
  },
  {
   "cell_type": "code",
   "execution_count": null,
   "metadata": {},
   "outputs": [],
   "source": [
    "# Пятая планиметрия\n",
    "S_wo = xlsx_df[(xlsx_df['Группа'] == 'СДК7_minus') | (xlsx_df['Группа'] == 'СДК14_minus') | (\n",
    "    xlsx_df['Группа'] == 'СДК21_minus')]['Планиметрия 21, мм2']\n",
    "S_w = xlsx_df[(xlsx_df['Группа'] == 'СДК7_plus') | (xlsx_df['Группа'] == 'СДК14_plus') | (\n",
    "    xlsx_df['Группа'] == 'СДК21_plus')]['Планиметрия 21, мм2']\n",
    "GCF = xlsx_df[(xlsx_df['Группа'] == 'ГКЦ7') | (xlsx_df['Группа'] == 'ГКЦ14') | (\n",
    "    xlsx_df['Группа'] == 'ГКЦ21')]['Планиметрия 21, мм2']\n",
    "GOF = xlsx_df[(xlsx_df['Группа'] == 'ГОЦ 7') | (xlsx_df['Группа'] == 'ГОЦ14') | (\n",
    "    xlsx_df['Группа'] == 'ГОЦ21')]['Планиметрия 21, мм2']\n",
    "df_swo = pd.DataFrame(S_wo)\n",
    "df_sw = pd.DataFrame(S_w)\n",
    "df_GCF = pd.DataFrame(GCF)\n",
    "df_GOF = pd.DataFrame(GOF)\n",
    "df_swo = df_swo[df_swo['Планиметрия 21, мм2'] != True]['Планиметрия 21, мм2'].to_numpy()\n",
    "df_sw = df_sw[df_sw['Планиметрия 21, мм2'] != True]['Планиметрия 21, мм2'].to_numpy()\n",
    "df_GCF = df_GCF[df_GCF['Планиметрия 21, мм2'] != True]['Планиметрия 21, мм2'].to_numpy()\n",
    "df_GOF = df_GOF[df_GOF['Планиметрия 21, мм2'] != True]['Планиметрия 21, мм2'].to_numpy()"
   ]
  },
  {
   "cell_type": "code",
   "execution_count": null,
   "metadata": {},
   "outputs": [
    {
     "data": {
      "text/plain": [
       "F_onewayResult(statistic=0.4194159367567629, pvalue=0.7415450762637039)"
      ]
     },
     "execution_count": 259,
     "metadata": {},
     "output_type": "execute_result"
    }
   ],
   "source": [
    "F = st.f_oneway(df_swo, df_sw, df_GCF, df_GOF)\n",
    "F"
   ]
  },
  {
   "cell_type": "code",
   "execution_count": null,
   "metadata": {},
   "outputs": [
    {
     "data": {
      "text/plain": [
       "KruskalResult(statistic=2.480152671755718, pvalue=0.478888620646307)"
      ]
     },
     "execution_count": 260,
     "metadata": {},
     "output_type": "execute_result"
    }
   ],
   "source": [
    "H = st.kruskal(df_swo, df_sw, df_GCF, df_GOF)\n",
    "H"
   ]
  },
  {
   "cell_type": "code",
   "execution_count": null,
   "metadata": {},
   "outputs": [
    {
     "data": {
      "text/html": [
       "<div>\n",
       "<style scoped>\n",
       "    .dataframe tbody tr th:only-of-type {\n",
       "        vertical-align: middle;\n",
       "    }\n",
       "\n",
       "    .dataframe tbody tr th {\n",
       "        vertical-align: top;\n",
       "    }\n",
       "\n",
       "    .dataframe thead th {\n",
       "        text-align: right;\n",
       "    }\n",
       "</style>\n",
       "<table border=\"1\" class=\"dataframe\">\n",
       "  <thead>\n",
       "    <tr style=\"text-align: right;\">\n",
       "      <th></th>\n",
       "      <th>Group</th>\n",
       "      <th>Time</th>\n",
       "      <th>Animal</th>\n",
       "      <th>Full_defect</th>\n",
       "      <th>Forward_defect</th>\n",
       "    </tr>\n",
       "  </thead>\n",
       "  <tbody>\n",
       "    <tr>\n",
       "      <th>0</th>\n",
       "      <td>ГКЦ</td>\n",
       "      <td>7</td>\n",
       "      <td>А</td>\n",
       "      <td>16.104240</td>\n",
       "      <td>14.60</td>\n",
       "    </tr>\n",
       "    <tr>\n",
       "      <th>1</th>\n",
       "      <td>ГКЦ</td>\n",
       "      <td>7</td>\n",
       "      <td>Б</td>\n",
       "      <td>9.008650</td>\n",
       "      <td>7.83</td>\n",
       "    </tr>\n",
       "    <tr>\n",
       "      <th>2</th>\n",
       "      <td>ГКЦ</td>\n",
       "      <td>7</td>\n",
       "      <td>В</td>\n",
       "      <td>9.813660</td>\n",
       "      <td>9.46</td>\n",
       "    </tr>\n",
       "    <tr>\n",
       "      <th>3</th>\n",
       "      <td>ГКЦ</td>\n",
       "      <td>7</td>\n",
       "      <td>Г</td>\n",
       "      <td>9.011950</td>\n",
       "      <td>8.53</td>\n",
       "    </tr>\n",
       "    <tr>\n",
       "      <th>4</th>\n",
       "      <td>ГКЦ</td>\n",
       "      <td>7</td>\n",
       "      <td>Д</td>\n",
       "      <td>11.026150</td>\n",
       "      <td>9.72</td>\n",
       "    </tr>\n",
       "    <tr>\n",
       "      <th>5</th>\n",
       "      <td>ГКЦ</td>\n",
       "      <td>7</td>\n",
       "      <td>Е</td>\n",
       "      <td>8.154130</td>\n",
       "      <td>7.70</td>\n",
       "    </tr>\n",
       "    <tr>\n",
       "      <th>6</th>\n",
       "      <td>ГКЦ</td>\n",
       "      <td>14</td>\n",
       "      <td>А</td>\n",
       "      <td>4.003060</td>\n",
       "      <td>3.80</td>\n",
       "    </tr>\n",
       "    <tr>\n",
       "      <th>7</th>\n",
       "      <td>ГКЦ</td>\n",
       "      <td>14</td>\n",
       "      <td>Б</td>\n",
       "      <td>12.919320</td>\n",
       "      <td>11.95</td>\n",
       "    </tr>\n",
       "    <tr>\n",
       "      <th>8</th>\n",
       "      <td>ГКЦ</td>\n",
       "      <td>14</td>\n",
       "      <td>В</td>\n",
       "      <td>17.645920</td>\n",
       "      <td>16.60</td>\n",
       "    </tr>\n",
       "    <tr>\n",
       "      <th>9</th>\n",
       "      <td>ГКЦ</td>\n",
       "      <td>14</td>\n",
       "      <td>Г</td>\n",
       "      <td>6.968010</td>\n",
       "      <td>6.65</td>\n",
       "    </tr>\n",
       "    <tr>\n",
       "      <th>10</th>\n",
       "      <td>ГКЦ</td>\n",
       "      <td>21</td>\n",
       "      <td>А</td>\n",
       "      <td>0.000000</td>\n",
       "      <td>0.00</td>\n",
       "    </tr>\n",
       "    <tr>\n",
       "      <th>11</th>\n",
       "      <td>ГКЦ</td>\n",
       "      <td>21</td>\n",
       "      <td>Б</td>\n",
       "      <td>0.346577</td>\n",
       "      <td>3.30</td>\n",
       "    </tr>\n",
       "    <tr>\n",
       "      <th>12</th>\n",
       "      <td>ГКЦ</td>\n",
       "      <td>21</td>\n",
       "      <td>В</td>\n",
       "      <td>0.000000</td>\n",
       "      <td>0.00</td>\n",
       "    </tr>\n",
       "    <tr>\n",
       "      <th>13</th>\n",
       "      <td>ГКЦ</td>\n",
       "      <td>21</td>\n",
       "      <td>Д</td>\n",
       "      <td>0.000000</td>\n",
       "      <td>0.00</td>\n",
       "    </tr>\n",
       "    <tr>\n",
       "      <th>14</th>\n",
       "      <td>ГКЦ</td>\n",
       "      <td>21</td>\n",
       "      <td>Е</td>\n",
       "      <td>0.000000</td>\n",
       "      <td>0.00</td>\n",
       "    </tr>\n",
       "    <tr>\n",
       "      <th>15</th>\n",
       "      <td>ГОЦ</td>\n",
       "      <td>7</td>\n",
       "      <td>А</td>\n",
       "      <td>11.902760</td>\n",
       "      <td>10.42</td>\n",
       "    </tr>\n",
       "    <tr>\n",
       "      <th>16</th>\n",
       "      <td>ГОЦ</td>\n",
       "      <td>7</td>\n",
       "      <td>Б</td>\n",
       "      <td>9.405290</td>\n",
       "      <td>7.42</td>\n",
       "    </tr>\n",
       "    <tr>\n",
       "      <th>17</th>\n",
       "      <td>ГОЦ</td>\n",
       "      <td>7</td>\n",
       "      <td>Г</td>\n",
       "      <td>12.167170</td>\n",
       "      <td>10.15</td>\n",
       "    </tr>\n",
       "    <tr>\n",
       "      <th>18</th>\n",
       "      <td>ГОЦ</td>\n",
       "      <td>7</td>\n",
       "      <td>Е</td>\n",
       "      <td>12.448540</td>\n",
       "      <td>10.98</td>\n",
       "    </tr>\n",
       "    <tr>\n",
       "      <th>19</th>\n",
       "      <td>ГОЦ</td>\n",
       "      <td>14</td>\n",
       "      <td>А</td>\n",
       "      <td>3.495600</td>\n",
       "      <td>3.10</td>\n",
       "    </tr>\n",
       "    <tr>\n",
       "      <th>20</th>\n",
       "      <td>ГОЦ</td>\n",
       "      <td>14</td>\n",
       "      <td>В</td>\n",
       "      <td>0.569200</td>\n",
       "      <td>0.50</td>\n",
       "    </tr>\n",
       "    <tr>\n",
       "      <th>21</th>\n",
       "      <td>ГОЦ</td>\n",
       "      <td>14</td>\n",
       "      <td>Г</td>\n",
       "      <td>8.628000</td>\n",
       "      <td>7.70</td>\n",
       "    </tr>\n",
       "    <tr>\n",
       "      <th>22</th>\n",
       "      <td>ГОЦ</td>\n",
       "      <td>14</td>\n",
       "      <td>Д</td>\n",
       "      <td>9.793430</td>\n",
       "      <td>8.80</td>\n",
       "    </tr>\n",
       "    <tr>\n",
       "      <th>23</th>\n",
       "      <td>ГОЦ</td>\n",
       "      <td>21</td>\n",
       "      <td>А</td>\n",
       "      <td>1.422900</td>\n",
       "      <td>1.40</td>\n",
       "    </tr>\n",
       "    <tr>\n",
       "      <th>24</th>\n",
       "      <td>ГОЦ</td>\n",
       "      <td>21</td>\n",
       "      <td>В</td>\n",
       "      <td>0.000000</td>\n",
       "      <td>0.00</td>\n",
       "    </tr>\n",
       "    <tr>\n",
       "      <th>25</th>\n",
       "      <td>ГОЦ</td>\n",
       "      <td>21</td>\n",
       "      <td>Г</td>\n",
       "      <td>0.000000</td>\n",
       "      <td>0.00</td>\n",
       "    </tr>\n",
       "    <tr>\n",
       "      <th>26</th>\n",
       "      <td>ГОЦ</td>\n",
       "      <td>21</td>\n",
       "      <td>Д</td>\n",
       "      <td>0.000000</td>\n",
       "      <td>0.00</td>\n",
       "    </tr>\n",
       "    <tr>\n",
       "      <th>27</th>\n",
       "      <td>СДК+</td>\n",
       "      <td>7</td>\n",
       "      <td>А</td>\n",
       "      <td>8.717040</td>\n",
       "      <td>8.40</td>\n",
       "    </tr>\n",
       "    <tr>\n",
       "      <th>28</th>\n",
       "      <td>СДК+</td>\n",
       "      <td>7</td>\n",
       "      <td>Б</td>\n",
       "      <td>22.125580</td>\n",
       "      <td>15.53</td>\n",
       "    </tr>\n",
       "    <tr>\n",
       "      <th>29</th>\n",
       "      <td>СДК+</td>\n",
       "      <td>7</td>\n",
       "      <td>В</td>\n",
       "      <td>14.149680</td>\n",
       "      <td>12.29</td>\n",
       "    </tr>\n",
       "    <tr>\n",
       "      <th>30</th>\n",
       "      <td>СДК+</td>\n",
       "      <td>7</td>\n",
       "      <td>Г</td>\n",
       "      <td>12.676300</td>\n",
       "      <td>9.90</td>\n",
       "    </tr>\n",
       "    <tr>\n",
       "      <th>31</th>\n",
       "      <td>СДК+</td>\n",
       "      <td>7</td>\n",
       "      <td>Д</td>\n",
       "      <td>10.854490</td>\n",
       "      <td>10.46</td>\n",
       "    </tr>\n",
       "    <tr>\n",
       "      <th>32</th>\n",
       "      <td>СДК+</td>\n",
       "      <td>14</td>\n",
       "      <td>А</td>\n",
       "      <td>17.006500</td>\n",
       "      <td>14.86</td>\n",
       "    </tr>\n",
       "    <tr>\n",
       "      <th>33</th>\n",
       "      <td>СДК+</td>\n",
       "      <td>14</td>\n",
       "      <td>Б</td>\n",
       "      <td>12.699350</td>\n",
       "      <td>11.87</td>\n",
       "    </tr>\n",
       "    <tr>\n",
       "      <th>34</th>\n",
       "      <td>СДК+</td>\n",
       "      <td>14</td>\n",
       "      <td>В</td>\n",
       "      <td>10.983670</td>\n",
       "      <td>9.90</td>\n",
       "    </tr>\n",
       "    <tr>\n",
       "      <th>35</th>\n",
       "      <td>СДК+</td>\n",
       "      <td>14</td>\n",
       "      <td>Г</td>\n",
       "      <td>16.535950</td>\n",
       "      <td>12.66</td>\n",
       "    </tr>\n",
       "    <tr>\n",
       "      <th>36</th>\n",
       "      <td>СДК+</td>\n",
       "      <td>14</td>\n",
       "      <td>Е</td>\n",
       "      <td>6.746890</td>\n",
       "      <td>6.40</td>\n",
       "    </tr>\n",
       "    <tr>\n",
       "      <th>37</th>\n",
       "      <td>СДК+</td>\n",
       "      <td>21</td>\n",
       "      <td>А</td>\n",
       "      <td>3.169210</td>\n",
       "      <td>3.10</td>\n",
       "    </tr>\n",
       "    <tr>\n",
       "      <th>38</th>\n",
       "      <td>СДК+</td>\n",
       "      <td>21</td>\n",
       "      <td>Б</td>\n",
       "      <td>1.746590</td>\n",
       "      <td>1.70</td>\n",
       "    </tr>\n",
       "    <tr>\n",
       "      <th>39</th>\n",
       "      <td>СДК+</td>\n",
       "      <td>21</td>\n",
       "      <td>В</td>\n",
       "      <td>1.374710</td>\n",
       "      <td>1.30</td>\n",
       "    </tr>\n",
       "    <tr>\n",
       "      <th>40</th>\n",
       "      <td>СДК+</td>\n",
       "      <td>21</td>\n",
       "      <td>Е</td>\n",
       "      <td>2.630500</td>\n",
       "      <td>2.30</td>\n",
       "    </tr>\n",
       "    <tr>\n",
       "      <th>41</th>\n",
       "      <td>СДК-</td>\n",
       "      <td>7</td>\n",
       "      <td>Б</td>\n",
       "      <td>12.338440</td>\n",
       "      <td>11.79</td>\n",
       "    </tr>\n",
       "    <tr>\n",
       "      <th>42</th>\n",
       "      <td>СДК-</td>\n",
       "      <td>7</td>\n",
       "      <td>В</td>\n",
       "      <td>9.967470</td>\n",
       "      <td>9.16</td>\n",
       "    </tr>\n",
       "    <tr>\n",
       "      <th>43</th>\n",
       "      <td>СДК-</td>\n",
       "      <td>7</td>\n",
       "      <td>Г</td>\n",
       "      <td>7.134060</td>\n",
       "      <td>6.50</td>\n",
       "    </tr>\n",
       "    <tr>\n",
       "      <th>44</th>\n",
       "      <td>СДК-</td>\n",
       "      <td>7</td>\n",
       "      <td>Д</td>\n",
       "      <td>7.038250</td>\n",
       "      <td>6.60</td>\n",
       "    </tr>\n",
       "    <tr>\n",
       "      <th>45</th>\n",
       "      <td>СДК-</td>\n",
       "      <td>14</td>\n",
       "      <td>А</td>\n",
       "      <td>1.309180</td>\n",
       "      <td>1.30</td>\n",
       "    </tr>\n",
       "    <tr>\n",
       "      <th>46</th>\n",
       "      <td>СДК-</td>\n",
       "      <td>14</td>\n",
       "      <td>Б</td>\n",
       "      <td>2.809540</td>\n",
       "      <td>2.70</td>\n",
       "    </tr>\n",
       "    <tr>\n",
       "      <th>47</th>\n",
       "      <td>СДК-</td>\n",
       "      <td>14</td>\n",
       "      <td>В</td>\n",
       "      <td>0.000000</td>\n",
       "      <td>0.00</td>\n",
       "    </tr>\n",
       "    <tr>\n",
       "      <th>48</th>\n",
       "      <td>СДК-</td>\n",
       "      <td>14</td>\n",
       "      <td>Г</td>\n",
       "      <td>3.697530</td>\n",
       "      <td>3.30</td>\n",
       "    </tr>\n",
       "    <tr>\n",
       "      <th>49</th>\n",
       "      <td>СДК-</td>\n",
       "      <td>14</td>\n",
       "      <td>Д</td>\n",
       "      <td>4.567250</td>\n",
       "      <td>4.60</td>\n",
       "    </tr>\n",
       "    <tr>\n",
       "      <th>50</th>\n",
       "      <td>СДК-</td>\n",
       "      <td>21</td>\n",
       "      <td>А</td>\n",
       "      <td>0.000000</td>\n",
       "      <td>0.00</td>\n",
       "    </tr>\n",
       "    <tr>\n",
       "      <th>51</th>\n",
       "      <td>СДК-</td>\n",
       "      <td>21</td>\n",
       "      <td>Б</td>\n",
       "      <td>0.000000</td>\n",
       "      <td>0.00</td>\n",
       "    </tr>\n",
       "    <tr>\n",
       "      <th>52</th>\n",
       "      <td>СДК-</td>\n",
       "      <td>21</td>\n",
       "      <td>В</td>\n",
       "      <td>0.000000</td>\n",
       "      <td>0.00</td>\n",
       "    </tr>\n",
       "    <tr>\n",
       "      <th>53</th>\n",
       "      <td>СДК-</td>\n",
       "      <td>21</td>\n",
       "      <td>Г</td>\n",
       "      <td>0.000000</td>\n",
       "      <td>0.00</td>\n",
       "    </tr>\n",
       "    <tr>\n",
       "      <th>54</th>\n",
       "      <td>СДК-</td>\n",
       "      <td>21</td>\n",
       "      <td>Д</td>\n",
       "      <td>1.739380</td>\n",
       "      <td>1.50</td>\n",
       "    </tr>\n",
       "    <tr>\n",
       "      <th>55</th>\n",
       "      <td>СДК-</td>\n",
       "      <td>21</td>\n",
       "      <td>Е</td>\n",
       "      <td>1.454170</td>\n",
       "      <td>1.40</td>\n",
       "    </tr>\n",
       "  </tbody>\n",
       "</table>\n",
       "</div>"
      ],
      "text/plain": [
       "   Group  Time Animal  Full_defect  Forward_defect\n",
       "0    ГКЦ     7      А    16.104240           14.60\n",
       "1    ГКЦ     7      Б     9.008650            7.83\n",
       "2    ГКЦ     7      В     9.813660            9.46\n",
       "3    ГКЦ     7      Г     9.011950            8.53\n",
       "4    ГКЦ     7      Д    11.026150            9.72\n",
       "5    ГКЦ     7      Е     8.154130            7.70\n",
       "6    ГКЦ    14      А     4.003060            3.80\n",
       "7    ГКЦ    14      Б    12.919320           11.95\n",
       "8    ГКЦ    14      В    17.645920           16.60\n",
       "9    ГКЦ    14      Г     6.968010            6.65\n",
       "10   ГКЦ    21      А     0.000000            0.00\n",
       "11   ГКЦ    21      Б     0.346577            3.30\n",
       "12   ГКЦ    21      В     0.000000            0.00\n",
       "13   ГКЦ    21      Д     0.000000            0.00\n",
       "14   ГКЦ    21      Е     0.000000            0.00\n",
       "15   ГОЦ     7      А    11.902760           10.42\n",
       "16   ГОЦ     7      Б     9.405290            7.42\n",
       "17   ГОЦ     7      Г    12.167170           10.15\n",
       "18   ГОЦ     7      Е    12.448540           10.98\n",
       "19   ГОЦ    14      А     3.495600            3.10\n",
       "20   ГОЦ    14      В     0.569200            0.50\n",
       "21   ГОЦ    14      Г     8.628000            7.70\n",
       "22   ГОЦ    14      Д     9.793430            8.80\n",
       "23   ГОЦ    21      А     1.422900            1.40\n",
       "24   ГОЦ    21      В     0.000000            0.00\n",
       "25   ГОЦ    21      Г     0.000000            0.00\n",
       "26   ГОЦ    21      Д     0.000000            0.00\n",
       "27  СДК+     7      А     8.717040            8.40\n",
       "28  СДК+     7      Б    22.125580           15.53\n",
       "29  СДК+     7      В    14.149680           12.29\n",
       "30  СДК+     7      Г    12.676300            9.90\n",
       "31  СДК+     7      Д    10.854490           10.46\n",
       "32  СДК+    14      А    17.006500           14.86\n",
       "33  СДК+    14      Б    12.699350           11.87\n",
       "34  СДК+    14      В    10.983670            9.90\n",
       "35  СДК+    14      Г    16.535950           12.66\n",
       "36  СДК+    14      Е     6.746890            6.40\n",
       "37  СДК+    21      А     3.169210            3.10\n",
       "38  СДК+    21      Б     1.746590            1.70\n",
       "39  СДК+    21      В     1.374710            1.30\n",
       "40  СДК+    21      Е     2.630500            2.30\n",
       "41  СДК-     7      Б    12.338440           11.79\n",
       "42  СДК-     7      В     9.967470            9.16\n",
       "43  СДК-     7      Г     7.134060            6.50\n",
       "44  СДК-     7      Д     7.038250            6.60\n",
       "45  СДК-    14      А     1.309180            1.30\n",
       "46  СДК-    14      Б     2.809540            2.70\n",
       "47  СДК-    14      В     0.000000            0.00\n",
       "48  СДК-    14      Г     3.697530            3.30\n",
       "49  СДК-    14      Д     4.567250            4.60\n",
       "50  СДК-    21      А     0.000000            0.00\n",
       "51  СДК-    21      Б     0.000000            0.00\n",
       "52  СДК-    21      В     0.000000            0.00\n",
       "53  СДК-    21      Г     0.000000            0.00\n",
       "54  СДК-    21      Д     1.739380            1.50\n",
       "55  СДК-    21      Е     1.454170            1.40"
      ]
     },
     "execution_count": 261,
     "metadata": {},
     "output_type": "execute_result"
    }
   ],
   "source": [
    "hist_morph = pd.read_excel('./Гистоморфометрия.xlsx')\n",
    "hist_morph"
   ]
  },
  {
   "cell_type": "code",
   "execution_count": null,
   "metadata": {},
   "outputs": [
    {
     "data": {
      "text/html": [
       "<div>\n",
       "<style scoped>\n",
       "    .dataframe tbody tr th:only-of-type {\n",
       "        vertical-align: middle;\n",
       "    }\n",
       "\n",
       "    .dataframe tbody tr th {\n",
       "        vertical-align: top;\n",
       "    }\n",
       "\n",
       "    .dataframe thead th {\n",
       "        text-align: right;\n",
       "    }\n",
       "</style>\n",
       "<table border=\"1\" class=\"dataframe\">\n",
       "  <thead>\n",
       "    <tr style=\"text-align: right;\">\n",
       "      <th></th>\n",
       "      <th>Group</th>\n",
       "      <th>Time</th>\n",
       "      <th>Full_defect</th>\n",
       "    </tr>\n",
       "  </thead>\n",
       "  <tbody>\n",
       "    <tr>\n",
       "      <th>0</th>\n",
       "      <td>ГКЦ</td>\n",
       "      <td>7</td>\n",
       "      <td>10.519797</td>\n",
       "    </tr>\n",
       "    <tr>\n",
       "      <th>1</th>\n",
       "      <td>ГКЦ</td>\n",
       "      <td>14</td>\n",
       "      <td>10.384077</td>\n",
       "    </tr>\n",
       "    <tr>\n",
       "      <th>2</th>\n",
       "      <td>ГКЦ</td>\n",
       "      <td>21</td>\n",
       "      <td>0.069315</td>\n",
       "    </tr>\n",
       "    <tr>\n",
       "      <th>3</th>\n",
       "      <td>ГОЦ</td>\n",
       "      <td>7</td>\n",
       "      <td>11.480940</td>\n",
       "    </tr>\n",
       "    <tr>\n",
       "      <th>4</th>\n",
       "      <td>ГОЦ</td>\n",
       "      <td>14</td>\n",
       "      <td>5.621557</td>\n",
       "    </tr>\n",
       "    <tr>\n",
       "      <th>5</th>\n",
       "      <td>ГОЦ</td>\n",
       "      <td>21</td>\n",
       "      <td>0.355725</td>\n",
       "    </tr>\n",
       "    <tr>\n",
       "      <th>6</th>\n",
       "      <td>СДК+</td>\n",
       "      <td>7</td>\n",
       "      <td>13.704618</td>\n",
       "    </tr>\n",
       "    <tr>\n",
       "      <th>7</th>\n",
       "      <td>СДК+</td>\n",
       "      <td>14</td>\n",
       "      <td>12.794472</td>\n",
       "    </tr>\n",
       "    <tr>\n",
       "      <th>8</th>\n",
       "      <td>СДК+</td>\n",
       "      <td>21</td>\n",
       "      <td>2.230252</td>\n",
       "    </tr>\n",
       "    <tr>\n",
       "      <th>9</th>\n",
       "      <td>СДК-</td>\n",
       "      <td>7</td>\n",
       "      <td>9.119555</td>\n",
       "    </tr>\n",
       "    <tr>\n",
       "      <th>10</th>\n",
       "      <td>СДК-</td>\n",
       "      <td>14</td>\n",
       "      <td>2.476700</td>\n",
       "    </tr>\n",
       "    <tr>\n",
       "      <th>11</th>\n",
       "      <td>СДК-</td>\n",
       "      <td>21</td>\n",
       "      <td>0.532258</td>\n",
       "    </tr>\n",
       "  </tbody>\n",
       "</table>\n",
       "</div>"
      ],
      "text/plain": [
       "   Group  Time  Full_defect\n",
       "0    ГКЦ     7    10.519797\n",
       "1    ГКЦ    14    10.384077\n",
       "2    ГКЦ    21     0.069315\n",
       "3    ГОЦ     7    11.480940\n",
       "4    ГОЦ    14     5.621557\n",
       "5    ГОЦ    21     0.355725\n",
       "6   СДК+     7    13.704618\n",
       "7   СДК+    14    12.794472\n",
       "8   СДК+    21     2.230252\n",
       "9   СДК-     7     9.119555\n",
       "10  СДК-    14     2.476700\n",
       "11  СДК-    21     0.532258"
      ]
     },
     "execution_count": 262,
     "metadata": {},
     "output_type": "execute_result"
    }
   ],
   "source": [
    "ГКЦ_7 = hist_morph[(hist_morph['Group'] == 'ГКЦ') & (hist_morph['Time'] == 7)]['Full_defect'].mean()\n",
    "ГКЦ_14 = hist_morph[(hist_morph['Group'] == 'ГКЦ') & (hist_morph['Time'] == 14)]['Full_defect'].mean()\n",
    "ГКЦ_21 = hist_morph[(hist_morph['Group'] == 'ГКЦ') & (hist_morph['Time'] == 21)]['Full_defect'].mean()\n",
    "groped_df = hist_morph.groupby(['Group', 'Time'], as_index=False).agg({'Full_defect': 'mean'})\n",
    "groped_df"
   ]
  },
  {
   "cell_type": "code",
   "execution_count": null,
   "metadata": {},
   "outputs": [
    {
     "data": {
      "image/png": "[encoded data removed]",
      "text/plain": [
       "<Figure size 640x480 with 1 Axes>"
      ]
     },
     "metadata": {},
     "output_type": "display_data"
    }
   ],
   "source": [
    "# данные\n",
    "groups = ['СДК-', 'ГОЦ', 'ГКЦ', 'СДК+']\n",
    "x = [7, 14, 21]\n",
    "y_values = {\n",
    "    'СДК-': [9.119555, 2.476700, 0.532258],\n",
    "    'ГОЦ': [11.480940, 5.621557, 0.355725],\n",
    "    'ГКЦ': [10.519797, 10.384077, 0.069315],\n",
    "    'СДК+': [13.704618, 12.794472, 2.230252]\n",
    "}\n",
    "\n",
    "# построение графика\n",
    "for group in groups:\n",
    "    plt.plot(x, y_values[group], marker='o', label=group)\n",
    "\n",
    "# добавление подписей осей и легенды\n",
    "plt.xlabel('Срок')\n",
    "plt.ylabel('Full_defect, мм')\n",
    "plt.title('График сроков по группам (морфометрия)')\n",
    "plt.legend()\n",
    "\n",
    "# отображение графика\n",
    "plt.show()\n"
   ]
  },
  {
   "cell_type": "code",
   "execution_count": null,
   "metadata": {},
   "outputs": [],
   "source": [
    "group_data = {\n",
    "    'СДК-': {\n",
    "        7: hist_morph[(hist_morph['Group']=='СДК-') & (hist_morph['Time']==7)]['Full_defect'],\n",
    "        14: hist_morph[(hist_morph['Group']=='СДК-') & (hist_morph['Time']==14)]['Full_defect'],\n",
    "        21: hist_morph[(hist_morph['Group']=='СДК-') & (hist_morph['Time']==21)]['Full_defect']\n",
    "    },\n",
    "    'ГОЦ': {\n",
    "        7: hist_morph[(hist_morph['Group']=='ГОЦ') & (hist_morph['Time']==7)]['Full_defect'],\n",
    "        14: hist_morph[(hist_morph['Group']=='ГОЦ') & (hist_morph['Time']==14)]['Full_defect'],\n",
    "        21: hist_morph[(hist_morph['Group']=='ГОЦ') & (hist_morph['Time']==21)]['Full_defect']\n",
    "    },\n",
    "    'ГКЦ': {\n",
    "        7: hist_morph[(hist_morph['Group']=='ГКЦ') & (hist_morph['Time']==7)]['Full_defect'],\n",
    "        14: hist_morph[(hist_morph['Group']=='ГКЦ') & (hist_morph['Time']==14)]['Full_defect'],\n",
    "        21: hist_morph[(hist_morph['Group']=='ГКЦ') & (hist_morph['Time']==21)]['Full_defect']\n",
    "    },\n",
    "    'СДК+': {\n",
    "        7: hist_morph[(hist_morph['Group']=='СДК+') & (hist_morph['Time']==7)]['Full_defect'],\n",
    "        14: hist_morph[(hist_morph['Group']=='СДК+') & (hist_morph['Time']==14)]['Full_defect'],\n",
    "        21: hist_morph[(hist_morph['Group']=='СДК+') & (hist_morph['Time']==21)]['Full_defect']\n",
    "    }\n",
    "}"
   ]
  },
  {
   "cell_type": "code",
   "execution_count": null,
   "metadata": {},
   "outputs": [
    {
     "name": "stdout",
     "output_type": "stream",
     "text": [
      "Статистически значимые различия на 7 сутки отсутствуют\n",
      "Статистически значимые различия на 14 сутки имеются\n",
      "Статистически значимые различия на 21 сутки имеются\n"
     ]
    }
   ],
   "source": [
    "# Статистических значимые отличия между группами на 7 сутки\n",
    "group_compare_7 = st.kruskal(group_data['СДК-'][7], group_data['СДК+'][7], group_data['ГКЦ'][7], group_data['ГОЦ'][7])\n",
    "print('Статистически значимые различия на 7 сутки {}'.format('отсутствуют' if group_compare_7.pvalue > 0.05 else 'имеются'))\n",
    "\n",
    "# Статистических значимые отличия между группами на 14 сутки\n",
    "group_compare_14 = st.kruskal(group_data['СДК-'][14], group_data['СДК+'][14], group_data['ГКЦ'][14], group_data['ГОЦ'][14])\n",
    "print('Статистически значимые различия на 14 сутки {}'.format('отсутствуют' if group_compare_14.pvalue > 0.05 else 'имеются'))\n",
    "\n",
    "# Статистических значимые отличия между группами на 14 сутки\n",
    "group_compare_21 = st.kruskal(group_data['СДК-'][21], group_data['СДК+'][21], group_data['ГКЦ'][21], group_data['ГОЦ'][21])\n",
    "print('Статистически значимые различия на 21 сутки {}'.format('отсутствуют' if group_compare_21.pvalue > 0.05 else 'имеются'))\n"
   ]
  },
  {
   "cell_type": "code",
   "execution_count": null,
   "metadata": {},
   "outputs": [
    {
     "data": {
      "image/png": "[encoded data removed]",
      "text/plain": [
       "<Figure size 640x480 with 1 Axes>"
      ]
     },
     "metadata": {},
     "output_type": "display_data"
    }
   ],
   "source": [
    "plt.boxplot([group_data['СДК-'][7], group_data['СДК+'][7], group_data['ГКЦ'][7], group_data['ГОЦ'][7]], labels=['Контроль', \"СД\", \"Гель-контроль\", \"Гель-опыт\"])\n",
    "plt.title('Планиметрия 7 сутки')\n",
    "plt.show()"
   ]
  },
  {
   "cell_type": "code",
   "execution_count": null,
   "metadata": {},
   "outputs": [
    {
     "data": {
      "image/png": "[encoded data removed]",
      "text/plain": [
       "<Figure size 640x480 with 1 Axes>"
      ]
     },
     "metadata": {},
     "output_type": "display_data"
    }
   ],
   "source": [
    "plt.boxplot([group_data['СДК-'][14], group_data['СДК+'][14], group_data['ГКЦ'][14], group_data['ГОЦ'][14]], labels=['Контроль', \"СД\", \"Гель-контроль\", \"Гель-опыт\"])\n",
    "plt.title('Планиметрия 14 сутки')\n",
    "plt.show()"
   ]
  },
  {
   "cell_type": "code",
   "execution_count": null,
   "metadata": {},
   "outputs": [
    {
     "data": {
      "image/png": "[encoded data removed]",
      "text/plain": [
       "<Figure size 640x480 with 1 Axes>"
      ]
     },
     "metadata": {},
     "output_type": "display_data"
    }
   ],
   "source": [
    "plt.boxplot([group_data['СДК-'][21], group_data['СДК+'][21], group_data['ГКЦ'][21], group_data['ГОЦ'][21]], labels=['Контроль', \"СД\", \"Гель-контроль\", \"Гель-опыт\"])\n",
    "plt.title('Планиметрия 21 сутки')\n",
    "plt.show()"
   ]
  },
  {
   "cell_type": "code",
   "execution_count": null,
   "metadata": {},
   "outputs": [
    {
     "data": {
      "text/html": [
       "<div>\n",
       "<style scoped>\n",
       "    .dataframe tbody tr th:only-of-type {\n",
       "        vertical-align: middle;\n",
       "    }\n",
       "\n",
       "    .dataframe tbody tr th {\n",
       "        vertical-align: top;\n",
       "    }\n",
       "\n",
       "    .dataframe thead th {\n",
       "        text-align: right;\n",
       "    }\n",
       "</style>\n",
       "<table border=\"1\" class=\"dataframe\">\n",
       "  <thead>\n",
       "    <tr style=\"text-align: right;\">\n",
       "      <th></th>\n",
       "      <th>1</th>\n",
       "      <th>2</th>\n",
       "      <th>3</th>\n",
       "      <th>4</th>\n",
       "    </tr>\n",
       "  </thead>\n",
       "  <tbody>\n",
       "    <tr>\n",
       "      <th>1</th>\n",
       "      <td>1.000000</td>\n",
       "      <td>0.032212</td>\n",
       "      <td>0.118545</td>\n",
       "      <td>0.773385</td>\n",
       "    </tr>\n",
       "    <tr>\n",
       "      <th>2</th>\n",
       "      <td>0.032212</td>\n",
       "      <td>1.000000</td>\n",
       "      <td>0.773385</td>\n",
       "      <td>0.314183</td>\n",
       "    </tr>\n",
       "    <tr>\n",
       "      <th>3</th>\n",
       "      <td>0.118545</td>\n",
       "      <td>0.773385</td>\n",
       "      <td>1.000000</td>\n",
       "      <td>0.555979</td>\n",
       "    </tr>\n",
       "    <tr>\n",
       "      <th>4</th>\n",
       "      <td>0.773385</td>\n",
       "      <td>0.314183</td>\n",
       "      <td>0.555979</td>\n",
       "      <td>1.000000</td>\n",
       "    </tr>\n",
       "  </tbody>\n",
       "</table>\n",
       "</div>"
      ],
      "text/plain": [
       "          1         2         3         4\n",
       "1  1.000000  0.032212  0.118545  0.773385\n",
       "2  0.032212  1.000000  0.773385  0.314183\n",
       "3  0.118545  0.773385  1.000000  0.555979\n",
       "4  0.773385  0.314183  0.555979  1.000000"
      ]
     },
     "execution_count": 269,
     "metadata": {},
     "output_type": "execute_result"
    }
   ],
   "source": [
    "dunn_14 = sp.posthoc_dunn([group_data['СДК-'][14], group_data['СДК+'][14], group_data['ГКЦ'][14], group_data['ГОЦ'][14]], p_adjust='holm')\n",
    "dunn_14"
   ]
  },
  {
   "cell_type": "code",
   "execution_count": null,
   "metadata": {},
   "outputs": [
    {
     "data": {
      "text/html": [
       "<div>\n",
       "<style scoped>\n",
       "    .dataframe tbody tr th:only-of-type {\n",
       "        vertical-align: middle;\n",
       "    }\n",
       "\n",
       "    .dataframe tbody tr th {\n",
       "        vertical-align: top;\n",
       "    }\n",
       "\n",
       "    .dataframe thead th {\n",
       "        text-align: right;\n",
       "    }\n",
       "</style>\n",
       "<table border=\"1\" class=\"dataframe\">\n",
       "  <thead>\n",
       "    <tr style=\"text-align: right;\">\n",
       "      <th></th>\n",
       "      <th>1</th>\n",
       "      <th>2</th>\n",
       "      <th>3</th>\n",
       "      <th>4</th>\n",
       "    </tr>\n",
       "  </thead>\n",
       "  <tbody>\n",
       "    <tr>\n",
       "      <th>1</th>\n",
       "      <td>1.000000</td>\n",
       "      <td>0.080517</td>\n",
       "      <td>1.000000</td>\n",
       "      <td>1.000000</td>\n",
       "    </tr>\n",
       "    <tr>\n",
       "      <th>2</th>\n",
       "      <td>0.080517</td>\n",
       "      <td>1.000000</td>\n",
       "      <td>0.029163</td>\n",
       "      <td>0.071861</td>\n",
       "    </tr>\n",
       "    <tr>\n",
       "      <th>3</th>\n",
       "      <td>1.000000</td>\n",
       "      <td>0.029163</td>\n",
       "      <td>1.000000</td>\n",
       "      <td>1.000000</td>\n",
       "    </tr>\n",
       "    <tr>\n",
       "      <th>4</th>\n",
       "      <td>1.000000</td>\n",
       "      <td>0.071861</td>\n",
       "      <td>1.000000</td>\n",
       "      <td>1.000000</td>\n",
       "    </tr>\n",
       "  </tbody>\n",
       "</table>\n",
       "</div>"
      ],
      "text/plain": [
       "          1         2         3         4\n",
       "1  1.000000  0.080517  1.000000  1.000000\n",
       "2  0.080517  1.000000  0.029163  0.071861\n",
       "3  1.000000  0.029163  1.000000  1.000000\n",
       "4  1.000000  0.071861  1.000000  1.000000"
      ]
     },
     "execution_count": 270,
     "metadata": {},
     "output_type": "execute_result"
    }
   ],
   "source": [
    "dunn_21 = sp.posthoc_dunn([group_data['СДК-'][21], group_data['СДК+'][21], group_data['ГКЦ'][21], group_data['ГОЦ'][21]], p_adjust='holm')\n",
    "dunn_21"
   ]
  },
  {
   "cell_type": "code",
   "execution_count": null,
   "metadata": {},
   "outputs": [],
   "source": []
  }
 ],
 "metadata": {
  "kernelspec": {
   "display_name": "Python 3",
   "language": "python",
   "name": "python3"
  },
  "language_info": {
   "codemirror_mode": {
    "name": "ipython",
    "version": 3
   },
   "file_extension": ".py",
   "mimetype": "text/x-python",
   "name": "python",
   "nbconvert_exporter": "python",
   "pygments_lexer": "ipython3",
   "version": "3.11.5"
  }
 },
 "nbformat": 4,
 "nbformat_minor": 2
}
