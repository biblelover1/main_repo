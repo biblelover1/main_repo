{
 "cells": [
  {
   "cell_type": "markdown",
   "metadata": {},
   "source": [
    "Проанализируйте результаты эксперимента и напишите свои рекомендации менеджеру.\n",
    "\n",
    "Mobile Games AB Testing with Cookie Cats"
   ]
  },
  {
   "cell_type": "code",
   "execution_count": 482,
   "metadata": {},
   "outputs": [],
   "source": [
    "import numpy as np\n",
    "import pandas as pd\n",
    "import matplotlib.pyplot as plt\n",
    "import scipy.stats as st\n",
    "import seaborn as sns\n",
    "import warnings\n",
    "import statsmodels.api as sm\n",
    "import math\n",
    "import statsmodels.stats.power as smp\n",
    "from statsmodels.stats import proportion\n",
    "\n",
    "\n",
    "from tqdm.auto import tqdm  # будет показывать количество итераций\n",
    "import bootstrapped.bootstrap as bs\n",
    "import bootstrapped.stats_functions as bs_stats\n",
    "import bootstrapped.compare_functions as bs_compare\n",
    "warnings.filterwarnings(\"ignore\", category=UserWarning) "
   ]
  },
  {
   "cell_type": "code",
   "execution_count": 483,
   "metadata": {},
   "outputs": [
    {
     "data": {
      "text/html": [
       "<div>\n",
       "<style scoped>\n",
       "    .dataframe tbody tr th:only-of-type {\n",
       "        vertical-align: middle;\n",
       "    }\n",
       "\n",
       "    .dataframe tbody tr th {\n",
       "        vertical-align: top;\n",
       "    }\n",
       "\n",
       "    .dataframe thead th {\n",
       "        text-align: right;\n",
       "    }\n",
       "</style>\n",
       "<table border=\"1\" class=\"dataframe\">\n",
       "  <thead>\n",
       "    <tr style=\"text-align: right;\">\n",
       "      <th></th>\n",
       "      <th>userid</th>\n",
       "      <th>version</th>\n",
       "      <th>sum_gamerounds</th>\n",
       "      <th>retention_1</th>\n",
       "      <th>retention_7</th>\n",
       "    </tr>\n",
       "  </thead>\n",
       "  <tbody>\n",
       "    <tr>\n",
       "      <th>0</th>\n",
       "      <td>116</td>\n",
       "      <td>gate_30</td>\n",
       "      <td>3</td>\n",
       "      <td>0</td>\n",
       "      <td>0</td>\n",
       "    </tr>\n",
       "    <tr>\n",
       "      <th>1</th>\n",
       "      <td>337</td>\n",
       "      <td>gate_30</td>\n",
       "      <td>38</td>\n",
       "      <td>1</td>\n",
       "      <td>0</td>\n",
       "    </tr>\n",
       "    <tr>\n",
       "      <th>2</th>\n",
       "      <td>377</td>\n",
       "      <td>gate_40</td>\n",
       "      <td>165</td>\n",
       "      <td>1</td>\n",
       "      <td>0</td>\n",
       "    </tr>\n",
       "    <tr>\n",
       "      <th>3</th>\n",
       "      <td>483</td>\n",
       "      <td>gate_40</td>\n",
       "      <td>1</td>\n",
       "      <td>0</td>\n",
       "      <td>0</td>\n",
       "    </tr>\n",
       "    <tr>\n",
       "      <th>4</th>\n",
       "      <td>488</td>\n",
       "      <td>gate_40</td>\n",
       "      <td>179</td>\n",
       "      <td>1</td>\n",
       "      <td>1</td>\n",
       "    </tr>\n",
       "  </tbody>\n",
       "</table>\n",
       "</div>"
      ],
      "text/plain": [
       "   userid  version  sum_gamerounds  retention_1  retention_7\n",
       "0     116  gate_30               3            0            0\n",
       "1     337  gate_30              38            1            0\n",
       "2     377  gate_40             165            1            0\n",
       "3     483  gate_40               1            0            0\n",
       "4     488  gate_40             179            1            1"
      ]
     },
     "execution_count": 483,
     "metadata": {},
     "output_type": "execute_result"
    }
   ],
   "source": [
    "# Проведем EDA\n",
    "df = pd.read_csv('результаты А_B - cookie_cats 2.csv')\n",
    "df.head()"
   ]
  },
  {
   "cell_type": "code",
   "execution_count": 484,
   "metadata": {},
   "outputs": [
    {
     "name": "stdout",
     "output_type": "stream",
     "text": [
      "<class 'pandas.core.frame.DataFrame'>\n",
      "RangeIndex: 90189 entries, 0 to 90188\n",
      "Data columns (total 5 columns):\n",
      " #   Column          Non-Null Count  Dtype \n",
      "---  ------          --------------  ----- \n",
      " 0   userid          90189 non-null  int64 \n",
      " 1   version         90189 non-null  object\n",
      " 2   sum_gamerounds  90189 non-null  int64 \n",
      " 3   retention_1     90189 non-null  int64 \n",
      " 4   retention_7     90189 non-null  int64 \n",
      "dtypes: int64(4), object(1)\n",
      "memory usage: 3.4+ MB\n"
     ]
    }
   ],
   "source": [
    "# Оценим количество NULL и дубликатов\n",
    "df.info()"
   ]
  },
  {
   "cell_type": "code",
   "execution_count": 485,
   "metadata": {},
   "outputs": [
    {
     "data": {
      "text/plain": [
       "0        False\n",
       "1        False\n",
       "2        False\n",
       "3        False\n",
       "4        False\n",
       "         ...  \n",
       "90184    False\n",
       "90185    False\n",
       "90186    False\n",
       "90187    False\n",
       "90188    False\n",
       "Length: 90189, dtype: bool"
      ]
     },
     "execution_count": 485,
     "metadata": {},
     "output_type": "execute_result"
    }
   ],
   "source": [
    "df.duplicated()"
   ]
  },
  {
   "cell_type": "markdown",
   "metadata": {},
   "source": [
    "Ввиду равных длин обоих массивов - дубликаты, пропуски данных отсутствуют"
   ]
  },
  {
   "cell_type": "code",
   "execution_count": 486,
   "metadata": {},
   "outputs": [
    {
     "data": {
      "text/html": [
       "<div>\n",
       "<style scoped>\n",
       "    .dataframe tbody tr th:only-of-type {\n",
       "        vertical-align: middle;\n",
       "    }\n",
       "\n",
       "    .dataframe tbody tr th {\n",
       "        vertical-align: top;\n",
       "    }\n",
       "\n",
       "    .dataframe thead th {\n",
       "        text-align: right;\n",
       "    }\n",
       "</style>\n",
       "<table border=\"1\" class=\"dataframe\">\n",
       "  <thead>\n",
       "    <tr style=\"text-align: right;\">\n",
       "      <th></th>\n",
       "      <th>count</th>\n",
       "      <th>group</th>\n",
       "    </tr>\n",
       "  </thead>\n",
       "  <tbody>\n",
       "    <tr>\n",
       "      <th>0</th>\n",
       "      <td>44700</td>\n",
       "      <td>gate_30</td>\n",
       "    </tr>\n",
       "    <tr>\n",
       "      <th>1</th>\n",
       "      <td>45489</td>\n",
       "      <td>gate_40</td>\n",
       "    </tr>\n",
       "  </tbody>\n",
       "</table>\n",
       "</div>"
      ],
      "text/plain": [
       "   count    group\n",
       "0  44700  gate_30\n",
       "1  45489  gate_40"
      ]
     },
     "execution_count": 486,
     "metadata": {},
     "output_type": "execute_result"
    }
   ],
   "source": [
    "# Оценим распределение пользователей по группам\n",
    "sns_df=df.groupby('version', as_index=False).agg({'version': 'count' })                                   \n",
    "sns_df['group'] = ['gate_30', 'gate_40']\n",
    "sns_df = sns_df.rename(columns={'version': 'count'})\n",
    "sns_df"
   ]
  },
  {
   "cell_type": "code",
   "execution_count": 487,
   "metadata": {},
   "outputs": [
    {
     "data": {
      "image/png": "[encoded data removed]",
      "text/plain": [
       "<Figure size 600x600 with 1 Axes>"
      ]
     },
     "metadata": {},
     "output_type": "display_data"
    }
   ],
   "source": [
    "# Построим график распределения пользователей на контрольную и тестовую группу\n",
    "plt.figure(figsize=(6,6))\n",
    "control_count = df[df['version'] == 'gate_30']['version'].count()\n",
    "test_count = df[df['version'] == 'gate_40']['version'].count()\n",
    "\n",
    "ax = sns.barplot(data=sns_df, \n",
    "            x='group', \n",
    "            y='count', \n",
    "            hue='group', \n",
    "            width=0.5, \n",
    "            gap=0.001)\n",
    "for p in ax.patches:\n",
    "    ax.annotate(format(int(p.get_height()), ','),\n",
    "                (p.get_x() + p.get_width() / 2., p.get_height()),\n",
    "                ha = 'center', va = 'center',\n",
    "                xytext = (0, 10),\n",
    "                textcoords = 'offset points',\n",
    "                fontsize=10)\n",
    "\n",
    "plt.show()"
   ]
  },
  {
   "cell_type": "code",
   "execution_count": 488,
   "metadata": {},
   "outputs": [
    {
     "data": {
      "image/png": "[encoded data removed]",
      "text/plain": [
       "<Figure size 1000x400 with 1 Axes>"
      ]
     },
     "metadata": {},
     "output_type": "display_data"
    }
   ],
   "source": [
    "# Оценим распределение суммы наигранных раундов пользователями\n",
    "plt.figure(figsize=(10,4))\n",
    "sns.set_theme(style='whitegrid')\n",
    "\n",
    "ax = sns.histplot(data=df['sum_gamerounds'][(df['version'] == 'gate_30')][:300], color='red', bins=30)\n",
    "sns.histplot(data=df['sum_gamerounds'][(df['version'] == 'gate_40')][:300], color='g', bins=30)\n",
    "\n",
    "ax.set(xlabel=\"Sum of games\",\n",
    "       ylabel=\"Users' count\",\n",
    "       title='Played games')\n",
    "plt.show()"
   ]
  },
  {
   "cell_type": "markdown",
   "metadata": {},
   "source": [
    "Распределение не является нормальным. В связи с этим используем непараметрические статистические методы"
   ]
  },
  {
   "cell_type": "markdown",
   "metadata": {},
   "source": [
    "Тест для версии и возврата на первые сутки"
   ]
  },
  {
   "cell_type": "code",
   "execution_count": 489,
   "metadata": {},
   "outputs": [],
   "source": [
    "# Расчитаем количество пользователей по вариантам и уровень возврата на первые сутки\n",
    "k1 = df[df['version'] == 'gate_30']['retention_1'].sum()\n",
    "k2 = df[df['version'] == 'gate_40']['retention_1'].sum()\n",
    "n1 = df[df['version'] == 'gate_30'].shape[0]\n",
    "n2 = df[df['version'] == 'gate_40'].shape[0]"
   ]
  },
  {
   "cell_type": "code",
   "execution_count": 490,
   "metadata": {},
   "outputs": [
    {
     "name": "stdout",
     "output_type": "stream",
     "text": [
      "Results are: chisq =3.183, pvalue = 0.074\n"
     ]
    }
   ],
   "source": [
    "# Расчет pvalue для группы retention_1\n",
    "chisq, pvalue_1, table = proportion.proportions_chisquare(np.array([k1, k2]), \n",
    "                                                   np.array([n1, n2]))\n",
    "print('Results are:','chisq =%.3f, pvalue = %.3f'%(chisq, pvalue_1))"
   ]
  },
  {
   "cell_type": "code",
   "execution_count": 491,
   "metadata": {},
   "outputs": [
    {
     "name": "stdout",
     "output_type": "stream",
     "text": [
      "We have failed to reject the null hypothesis about differencies between group and retention_1\n"
     ]
    }
   ],
   "source": [
    "if abs(pvalue_1) < 0.05:\n",
    "    print(\"We may reject the null hypothesis about differencies between group and retention_1!\")\n",
    "else:\n",
    "    print(\"We have failed to reject the null hypothesis about differencies between group and retention_1\")"
   ]
  },
  {
   "cell_type": "markdown",
   "metadata": {},
   "source": [
    "Оценим мощность теста возврата пользователей на 1 сутки"
   ]
  },
  {
   "cell_type": "code",
   "execution_count": 492,
   "metadata": {},
   "outputs": [
    {
     "data": {
      "text/plain": [
       "44700"
      ]
     },
     "execution_count": 492,
     "metadata": {},
     "output_type": "execute_result"
    }
   ],
   "source": [
    "# Критерий пропорций (для кликов, конверсий)\n",
    "p_control = df[df['version'] == 'gate_30']['retention_1'].sum()/control_count\n",
    "p_test = df[df['version'] == 'gate_40']['retention_1'].sum()/test_count\n",
    "\n",
    "n_control = len(df[df['version'] == 'gate_30'])\n",
    "n_test = len(df[df['version'] == 'gate_40'])\n",
    "n = sorted([n_control, n_test])\n",
    "\n",
    "alpha = 0.05\n",
    "power = 0.8   \n",
    "p_control           # % Retenrion_1_gate30.\n",
    "p_test              # % Retenrion_1_gate40.\n",
    "p_test\n",
    "n[0]            # количество наблюдений (мин)  "
   ]
  },
  {
   "cell_type": "code",
   "execution_count": 493,
   "metadata": {},
   "outputs": [
    {
     "data": {
      "text/plain": [
       "0.011881898259223478"
      ]
     },
     "execution_count": 493,
     "metadata": {},
     "output_type": "execute_result"
    }
   ],
   "source": [
    "# effect_size\n",
    "h = 2 * math.asin(np.sqrt(p_control)) - 2 * math.asin(np.sqrt(p_test))\n",
    "h"
   ]
  },
  {
   "cell_type": "code",
   "execution_count": 494,
   "metadata": {},
   "outputs": [
    {
     "data": {
      "text/plain": [
       "0.4272451872776839"
      ]
     },
     "execution_count": 494,
     "metadata": {},
     "output_type": "execute_result"
    }
   ],
   "source": [
    "# Мощность критерия для выборки из n элементов, если effect_size = h, alpha = 5%\n",
    "\n",
    "power = smp.zt_ind_solve_power(effect_size=h, nobs1=n[0], alpha=alpha, alternative='two-sided')\n",
    "power  # Низкая статистическая мощность теста "
   ]
  },
  {
   "cell_type": "code",
   "execution_count": 495,
   "metadata": {},
   "outputs": [
    {
     "name": "stdout",
     "output_type": "stream",
     "text": [
      "Число юзеров для достижения статистической мощности теста 80%: 155890\n"
     ]
    }
   ],
   "source": [
    "# Расчитаем количество юзеров, необходимых для тестирования гипотезы при мощности 0.8\n",
    "nobs2 = smp.zt_ind_solve_power(effect_size=h, alpha=alpha, power=0.8, alternative='two-sided')\n",
    "print(\"Число юзеров для достижения статистической мощности теста 80%: {:.0f}\".format(nobs2+control_count))"
   ]
  },
  {
   "cell_type": "markdown",
   "metadata": {},
   "source": [
    "Тест для версии и возврата на седьмые сутки"
   ]
  },
  {
   "cell_type": "code",
   "execution_count": 496,
   "metadata": {},
   "outputs": [],
   "source": [
    "# Расчитаем количество пользователей по вариантам и уровень возврата на седьмые сутки\n",
    "k7_30 = df[df['version'] == 'gate_30']['retention_7'].sum()\n",
    "k7_40 = df[df['version'] == 'gate_40']['retention_7'].sum()"
   ]
  },
  {
   "cell_type": "code",
   "execution_count": 497,
   "metadata": {},
   "outputs": [
    {
     "name": "stdout",
     "output_type": "stream",
     "text": [
      "Results are: chisq =10.013, pvalue = 0.002\n"
     ]
    }
   ],
   "source": [
    "# Расчет pvalue для группы retention_7\n",
    "chisq, pvalue_7, table = proportion.proportions_chisquare(np.array([k7_30, k7_40]), \n",
    "                                                   np.array([n1, n2]))\n",
    "print('Results are:','chisq =%.3f, pvalue = %.3f'%(chisq, pvalue_7))"
   ]
  },
  {
   "cell_type": "code",
   "execution_count": 498,
   "metadata": {},
   "outputs": [
    {
     "name": "stdout",
     "output_type": "stream",
     "text": [
      "We may reject the null hypothesis about differencies between group and retention_7!\n"
     ]
    }
   ],
   "source": [
    "if abs(pvalue_7) < 0.05:\n",
    "    print(\"We may reject the null hypothesis about differencies between group and retention_7!\")\n",
    "else:\n",
    "    print(\"We have failed to reject the null hypothesis about differencies between group and retention_7\")"
   ]
  },
  {
   "cell_type": "markdown",
   "metadata": {},
   "source": [
    "Анализ среднего количества сыгранных раундов по группам"
   ]
  },
  {
   "cell_type": "code",
   "execution_count": 499,
   "metadata": {},
   "outputs": [],
   "source": [
    "mean_games_30 = df[df['version'] == 'gate_30']['sum_gamerounds'].mean\n",
    "mean_games_40 = df[df['version'] == 'gate_40']['sum_gamerounds'].mean"
   ]
  },
  {
   "cell_type": "code",
   "execution_count": 500,
   "metadata": {},
   "outputs": [
    {
     "data": {
      "image/png": "[encoded data removed]",
      "text/plain": [
       "<Figure size 640x480 with 1 Axes>"
      ]
     },
     "metadata": {},
     "output_type": "display_data"
    }
   ],
   "source": [
    "# Построим графики распредления суммы сыгранных раундов по группам\n",
    "sns.histplot(data=df[df['version'] == 'gate_30']['sum_gamerounds'][:300], color='r')\n",
    "plt.axvline(df[df['version'] == 'gate_30']['sum_gamerounds'].mean(), color='r', linestyle='dashed', linewidth=2)\n",
    "sns.histplot(data=df[df['version'] == 'gate_40']['sum_gamerounds'][:300], color='b')\n",
    "plt.axvline(df[df['version'] == 'gate_40']['sum_gamerounds'].mean(), color='y', linestyle='dashed', linewidth=2)\n",
    "plt.legend(['gate_30_mean', 'gate_40_mean', 'Gate 30', 'Gate 40'])\n",
    "plt.show()\n"
   ]
  },
  {
   "cell_type": "code",
   "execution_count": 501,
   "metadata": {},
   "outputs": [
    {
     "name": "stdout",
     "output_type": "stream",
     "text": [
      "Can't reject null hipothesis about differencies between means of two groups\n"
     ]
    }
   ],
   "source": [
    "# Проведем тест Манна-Уитни для разницы двух средних в группах\n",
    "U = st.mannwhitneyu(df[df['version'] == 'gate_30']['sum_gamerounds'], df[df['version'] == 'gate_40']['sum_gamerounds'])\n",
    "p_val = U[1]\n",
    "if p_val < 0.05:\n",
    "    print('Reject null hipothesis about differencies between means of two grous')\n",
    "else:\n",
    "    print(\"Can't reject null hipothesis about differencies between means of two groups\")"
   ]
  },
  {
   "cell_type": "markdown",
   "metadata": {},
   "source": [
    "Оценим мощность теста"
   ]
  },
  {
   "cell_type": "code",
   "execution_count": 503,
   "metadata": {},
   "outputs": [
    {
     "data": {
      "text/plain": [
       "(256.7164231160407, 103.29441621652788)"
      ]
     },
     "execution_count": 503,
     "metadata": {},
     "output_type": "execute_result"
    }
   ],
   "source": [
    "# Расчитаем описательные статистики\n",
    "gate30_mean = df[df['version'] == 'gate_30']['sum_gamerounds'].mean()\n",
    "gate40_mean = df[df['version'] == 'gate_40']['sum_gamerounds'].mean()\n",
    "\n",
    "gate30_std = df[df['version'] == 'gate_30']['sum_gamerounds'].std()\n",
    "gate40_std = df[df['version'] == 'gate_40']['sum_gamerounds'].std()\n"
   ]
  },
  {
   "cell_type": "code",
   "execution_count": 505,
   "metadata": {},
   "outputs": [
    {
     "data": {
      "text/plain": [
       "44700"
      ]
     },
     "execution_count": 505,
     "metadata": {},
     "output_type": "execute_result"
    }
   ],
   "source": [
    "# Выберем меньшую длину из выборок\n",
    "sample_length = len(df[df['version'] == 'gate_30']['sum_gamerounds'])"
   ]
  },
  {
   "cell_type": "code",
   "execution_count": 507,
   "metadata": {},
   "outputs": [
    {
     "data": {
      "text/plain": [
       "195.66943849130774"
      ]
     },
     "execution_count": 507,
     "metadata": {},
     "output_type": "execute_result"
    }
   ],
   "source": [
    "# Standart deviation pool\n",
    "S = np.sqrt((gate30_std**2 + gate40_std **2)/ 2)\n"
   ]
  },
  {
   "cell_type": "code",
   "execution_count": 516,
   "metadata": {},
   "outputs": [
    {
     "name": "stdout",
     "output_type": "stream",
     "text": [
      "Effect = -0.005915530104639557\n"
     ]
    }
   ],
   "source": [
    "ef =float((gate40_mean-gate30_mean)/ S) \n",
    "print(f'Effect = {ef}')"
   ]
  },
  {
   "cell_type": "code",
   "execution_count": 523,
   "metadata": {},
   "outputs": [
    {
     "data": {
      "text/plain": [
       "0.1432769062259385"
      ]
     },
     "execution_count": 523,
     "metadata": {},
     "output_type": "execute_result"
    }
   ],
   "source": [
    "# parameters for power analysis\n",
    "\n",
    "alpha = 0.05\n",
    "\n",
    "# perform power analysis\n",
    "analysis = smp.tt_ind_solve_power(effect_size=ef, nobs1=sample_length, alpha=alpha, power=None )\n",
    "\n",
    "analysis # Очень низкая мощность теста"
   ]
  },
  {
   "cell_type": "markdown",
   "metadata": {},
   "source": [
    "# Выводы\n",
    "По результатам данных А/В теста не удалось получить статистически значимых различий в количестве сыгранных раундов между группами и возвратом на первые сутки (retention_1). Удалось установить статистически значимые различия между группами и возвратом на 7 сутки (retention_7).\n",
    "Для увеличения мощности теста необходимо увеличить количество пользователей в выборках"
   ]
  },
  {
   "cell_type": "code",
   "execution_count": null,
   "metadata": {},
   "outputs": [],
   "source": []
  }
 ],
 "metadata": {
  "kernelspec": {
   "display_name": "Python 3",
   "language": "python",
   "name": "python3"
  },
  "language_info": {
   "codemirror_mode": {
    "name": "ipython",
    "version": 3
   },
   "file_extension": ".py",
   "mimetype": "text/x-python",
   "name": "python",
   "nbconvert_exporter": "python",
   "pygments_lexer": "ipython3",
   "version": "3.11.5"
  }
 },
 "nbformat": 4,
 "nbformat_minor": 2
}
